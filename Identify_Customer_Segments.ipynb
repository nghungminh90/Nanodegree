{
 "cells": [
  {
   "cell_type": "markdown",
   "metadata": {},
   "source": [
    "# Project: Identify Customer Segments\n",
    "\n",
    "In this project, you will apply unsupervised learning techniques to identify segments of the population that form the core customer base for a mail-order sales company in Germany. These segments can then be used to direct marketing campaigns towards audiences that will have the highest expected rate of returns. The data that you will use has been provided by our partners at Bertelsmann Arvato Analytics, and represents a real-life data science task.\n",
    "\n",
    "This notebook will help you complete this task by providing a framework within which you will perform your analysis steps. In each step of the project, you will see some text describing the subtask that you will perform, followed by one or more code cells for you to complete your work. **Feel free to add additional code and markdown cells as you go along so that you can explore everything in precise chunks.** The code cells provided in the base template will outline only the major tasks, and will usually not be enough to cover all of the minor tasks that comprise it.\n",
    "\n",
    "It should be noted that while there will be precise guidelines on how you should handle certain tasks in the project, there will also be places where an exact specification is not provided. **There will be times in the project where you will need to make and justify your own decisions on how to treat the data.** These are places where there may not be only one way to handle the data. In real-life tasks, there may be many valid ways to approach an analysis task. One of the most important things you can do is clearly document your approach so that other scientists can understand the decisions you've made.\n",
    "\n",
    "At the end of most sections, there will be a Markdown cell labeled **Discussion**. In these cells, you will report your findings for the completed section, as well as document the decisions that you made in your approach to each subtask. **Your project will be evaluated not just on the code used to complete the tasks outlined, but also your communication about your observations and conclusions at each stage.**"
   ]
  },
  {
   "cell_type": "code",
   "execution_count": 180,
   "metadata": {},
   "outputs": [],
   "source": [
    "# import libraries here; add more as necessary\n",
    "import numpy as np\n",
    "import pandas as pd\n",
    "import matplotlib.pyplot as plt\n",
    "import seaborn as sns\n",
    "from sklearn.preprocessing import StandardScaler\n",
    "from sklearn.decomposition import PCA\n",
    "from sklearn.cluster import KMeans,MiniBatchKMeans\n",
    "from collections import Counter,OrderedC\n",
    "# magic word for producing visualizations in notebook\n",
    "%matplotlib inline"
   ]
  },
  {
   "cell_type": "markdown",
   "metadata": {},
   "source": [
    "### Step 0: Load the Data\n",
    "\n",
    "There are four files associated with this project (not including this one):\n",
    "\n",
    "- `Udacity_AZDIAS_Subset.csv`: Demographics data for the general population of Germany; 891211 persons (rows) x 85 features (columns).\n",
    "- `Udacity_CUSTOMERS_Subset.csv`: Demographics data for customers of a mail-order company; 191652 persons (rows) x 85 features (columns).\n",
    "- `Data_Dictionary.md`: Detailed information file about the features in the provided datasets.\n",
    "- `AZDIAS_Feature_Summary.csv`: Summary of feature attributes for demographics data; 85 features (rows) x 4 columns\n",
    "\n",
    "Each row of the demographics files represents a single person, but also includes information outside of individuals, including information about their household, building, and neighborhood. You will use this information to cluster the general population into groups with similar demographic properties. Then, you will see how the people in the customers dataset fit into those created clusters. The hope here is that certain clusters are over-represented in the customers data, as compared to the general population; those over-represented clusters will be assumed to be part of the core userbase. This information can then be used for further applications, such as targeting for a marketing campaign.\n",
    "\n",
    "To start off with, load in the demographics data for the general population into a pandas DataFrame, and do the same for the feature attributes summary. Note for all of the `.csv` data files in this project: they're semicolon (`;`) delimited, so you'll need an additional argument in your [`read_csv()`](https://pandas.pydata.org/pandas-docs/stable/generated/pandas.read_csv.html) call to read in the data properly. Also, considering the size of the main dataset, it may take some time for it to load completely.\n",
    "\n",
    "Once the dataset is loaded, it's recommended that you take a little bit of time just browsing the general structure of the dataset and feature summary file. You'll be getting deep into the innards of the cleaning in the first major step of the project, so gaining some general familiarity can help you get your bearings."
   ]
  },
  {
   "cell_type": "code",
   "execution_count": 56,
   "metadata": {},
   "outputs": [],
   "source": [
    "# Load in the general demographics data.\n",
    "azdias = pd.read_csv('./Udacity_AZDIAS_Subset.csv',delimiter=';')"
   ]
  },
  {
   "cell_type": "code",
   "execution_count": 57,
   "metadata": {},
   "outputs": [],
   "source": [
    "# Load in the feature summary file.\n",
    "feat_info = pd.read_csv('./AZDIAS_Feature_Summary.csv',delimiter=';')"
   ]
  },
  {
   "cell_type": "code",
   "execution_count": 58,
   "metadata": {},
   "outputs": [
    {
     "data": {
      "text/plain": [
       "(891221, 85)"
      ]
     },
     "execution_count": 58,
     "metadata": {},
     "output_type": "execute_result"
    }
   ],
   "source": [
    "azdias.shape"
   ]
  },
  {
   "cell_type": "code",
   "execution_count": 59,
   "metadata": {},
   "outputs": [
    {
     "data": {
      "text/plain": [
       "(85, 4)"
      ]
     },
     "execution_count": 59,
     "metadata": {},
     "output_type": "execute_result"
    }
   ],
   "source": [
    "feat_info.shape"
   ]
  },
  {
   "cell_type": "code",
   "execution_count": 60,
   "metadata": {},
   "outputs": [
    {
     "data": {
      "text/html": [
       "<div>\n",
       "<style>\n",
       "    .dataframe thead tr:only-child th {\n",
       "        text-align: right;\n",
       "    }\n",
       "\n",
       "    .dataframe thead th {\n",
       "        text-align: left;\n",
       "    }\n",
       "\n",
       "    .dataframe tbody tr th {\n",
       "        vertical-align: top;\n",
       "    }\n",
       "</style>\n",
       "<table border=\"1\" class=\"dataframe\">\n",
       "  <thead>\n",
       "    <tr style=\"text-align: right;\">\n",
       "      <th></th>\n",
       "      <th>AGER_TYP</th>\n",
       "      <th>ALTERSKATEGORIE_GROB</th>\n",
       "      <th>ANREDE_KZ</th>\n",
       "      <th>CJT_GESAMTTYP</th>\n",
       "      <th>FINANZ_MINIMALIST</th>\n",
       "      <th>FINANZ_SPARER</th>\n",
       "      <th>FINANZ_VORSORGER</th>\n",
       "      <th>FINANZ_ANLEGER</th>\n",
       "      <th>FINANZ_UNAUFFAELLIGER</th>\n",
       "      <th>FINANZ_HAUSBAUER</th>\n",
       "      <th>...</th>\n",
       "      <th>PLZ8_ANTG1</th>\n",
       "      <th>PLZ8_ANTG2</th>\n",
       "      <th>PLZ8_ANTG3</th>\n",
       "      <th>PLZ8_ANTG4</th>\n",
       "      <th>PLZ8_BAUMAX</th>\n",
       "      <th>PLZ8_HHZ</th>\n",
       "      <th>PLZ8_GBZ</th>\n",
       "      <th>ARBEIT</th>\n",
       "      <th>ORTSGR_KLS9</th>\n",
       "      <th>RELAT_AB</th>\n",
       "    </tr>\n",
       "  </thead>\n",
       "  <tbody>\n",
       "    <tr>\n",
       "      <th>0</th>\n",
       "      <td>-1</td>\n",
       "      <td>2</td>\n",
       "      <td>1</td>\n",
       "      <td>2.0</td>\n",
       "      <td>3</td>\n",
       "      <td>4</td>\n",
       "      <td>3</td>\n",
       "      <td>5</td>\n",
       "      <td>5</td>\n",
       "      <td>3</td>\n",
       "      <td>...</td>\n",
       "      <td>NaN</td>\n",
       "      <td>NaN</td>\n",
       "      <td>NaN</td>\n",
       "      <td>NaN</td>\n",
       "      <td>NaN</td>\n",
       "      <td>NaN</td>\n",
       "      <td>NaN</td>\n",
       "      <td>NaN</td>\n",
       "      <td>NaN</td>\n",
       "      <td>NaN</td>\n",
       "    </tr>\n",
       "    <tr>\n",
       "      <th>1</th>\n",
       "      <td>-1</td>\n",
       "      <td>1</td>\n",
       "      <td>2</td>\n",
       "      <td>5.0</td>\n",
       "      <td>1</td>\n",
       "      <td>5</td>\n",
       "      <td>2</td>\n",
       "      <td>5</td>\n",
       "      <td>4</td>\n",
       "      <td>5</td>\n",
       "      <td>...</td>\n",
       "      <td>2.0</td>\n",
       "      <td>3.0</td>\n",
       "      <td>2.0</td>\n",
       "      <td>1.0</td>\n",
       "      <td>1.0</td>\n",
       "      <td>5.0</td>\n",
       "      <td>4.0</td>\n",
       "      <td>3.0</td>\n",
       "      <td>5.0</td>\n",
       "      <td>4.0</td>\n",
       "    </tr>\n",
       "    <tr>\n",
       "      <th>2</th>\n",
       "      <td>-1</td>\n",
       "      <td>3</td>\n",
       "      <td>2</td>\n",
       "      <td>3.0</td>\n",
       "      <td>1</td>\n",
       "      <td>4</td>\n",
       "      <td>1</td>\n",
       "      <td>2</td>\n",
       "      <td>3</td>\n",
       "      <td>5</td>\n",
       "      <td>...</td>\n",
       "      <td>3.0</td>\n",
       "      <td>3.0</td>\n",
       "      <td>1.0</td>\n",
       "      <td>0.0</td>\n",
       "      <td>1.0</td>\n",
       "      <td>4.0</td>\n",
       "      <td>4.0</td>\n",
       "      <td>3.0</td>\n",
       "      <td>5.0</td>\n",
       "      <td>2.0</td>\n",
       "    </tr>\n",
       "    <tr>\n",
       "      <th>3</th>\n",
       "      <td>2</td>\n",
       "      <td>4</td>\n",
       "      <td>2</td>\n",
       "      <td>2.0</td>\n",
       "      <td>4</td>\n",
       "      <td>2</td>\n",
       "      <td>5</td>\n",
       "      <td>2</td>\n",
       "      <td>1</td>\n",
       "      <td>2</td>\n",
       "      <td>...</td>\n",
       "      <td>2.0</td>\n",
       "      <td>2.0</td>\n",
       "      <td>2.0</td>\n",
       "      <td>0.0</td>\n",
       "      <td>1.0</td>\n",
       "      <td>3.0</td>\n",
       "      <td>4.0</td>\n",
       "      <td>2.0</td>\n",
       "      <td>3.0</td>\n",
       "      <td>3.0</td>\n",
       "    </tr>\n",
       "    <tr>\n",
       "      <th>4</th>\n",
       "      <td>-1</td>\n",
       "      <td>3</td>\n",
       "      <td>1</td>\n",
       "      <td>5.0</td>\n",
       "      <td>4</td>\n",
       "      <td>3</td>\n",
       "      <td>4</td>\n",
       "      <td>1</td>\n",
       "      <td>3</td>\n",
       "      <td>2</td>\n",
       "      <td>...</td>\n",
       "      <td>2.0</td>\n",
       "      <td>4.0</td>\n",
       "      <td>2.0</td>\n",
       "      <td>1.0</td>\n",
       "      <td>2.0</td>\n",
       "      <td>3.0</td>\n",
       "      <td>3.0</td>\n",
       "      <td>4.0</td>\n",
       "      <td>6.0</td>\n",
       "      <td>5.0</td>\n",
       "    </tr>\n",
       "  </tbody>\n",
       "</table>\n",
       "<p>5 rows × 85 columns</p>\n",
       "</div>"
      ],
      "text/plain": [
       "   AGER_TYP  ALTERSKATEGORIE_GROB  ANREDE_KZ  CJT_GESAMTTYP  \\\n",
       "0        -1                     2          1            2.0   \n",
       "1        -1                     1          2            5.0   \n",
       "2        -1                     3          2            3.0   \n",
       "3         2                     4          2            2.0   \n",
       "4        -1                     3          1            5.0   \n",
       "\n",
       "   FINANZ_MINIMALIST  FINANZ_SPARER  FINANZ_VORSORGER  FINANZ_ANLEGER  \\\n",
       "0                  3              4                 3               5   \n",
       "1                  1              5                 2               5   \n",
       "2                  1              4                 1               2   \n",
       "3                  4              2                 5               2   \n",
       "4                  4              3                 4               1   \n",
       "\n",
       "   FINANZ_UNAUFFAELLIGER  FINANZ_HAUSBAUER    ...     PLZ8_ANTG1  PLZ8_ANTG2  \\\n",
       "0                      5                 3    ...            NaN         NaN   \n",
       "1                      4                 5    ...            2.0         3.0   \n",
       "2                      3                 5    ...            3.0         3.0   \n",
       "3                      1                 2    ...            2.0         2.0   \n",
       "4                      3                 2    ...            2.0         4.0   \n",
       "\n",
       "   PLZ8_ANTG3  PLZ8_ANTG4  PLZ8_BAUMAX  PLZ8_HHZ  PLZ8_GBZ  ARBEIT  \\\n",
       "0         NaN         NaN          NaN       NaN       NaN     NaN   \n",
       "1         2.0         1.0          1.0       5.0       4.0     3.0   \n",
       "2         1.0         0.0          1.0       4.0       4.0     3.0   \n",
       "3         2.0         0.0          1.0       3.0       4.0     2.0   \n",
       "4         2.0         1.0          2.0       3.0       3.0     4.0   \n",
       "\n",
       "   ORTSGR_KLS9  RELAT_AB  \n",
       "0          NaN       NaN  \n",
       "1          5.0       4.0  \n",
       "2          5.0       2.0  \n",
       "3          3.0       3.0  \n",
       "4          6.0       5.0  \n",
       "\n",
       "[5 rows x 85 columns]"
      ]
     },
     "execution_count": 60,
     "metadata": {},
     "output_type": "execute_result"
    }
   ],
   "source": [
    "azdias.head()"
   ]
  },
  {
   "cell_type": "code",
   "execution_count": 61,
   "metadata": {},
   "outputs": [
    {
     "data": {
      "text/html": [
       "<div>\n",
       "<style>\n",
       "    .dataframe thead tr:only-child th {\n",
       "        text-align: right;\n",
       "    }\n",
       "\n",
       "    .dataframe thead th {\n",
       "        text-align: left;\n",
       "    }\n",
       "\n",
       "    .dataframe tbody tr th {\n",
       "        vertical-align: top;\n",
       "    }\n",
       "</style>\n",
       "<table border=\"1\" class=\"dataframe\">\n",
       "  <thead>\n",
       "    <tr style=\"text-align: right;\">\n",
       "      <th></th>\n",
       "      <th>attribute</th>\n",
       "      <th>information_level</th>\n",
       "      <th>type</th>\n",
       "      <th>missing_or_unknown</th>\n",
       "    </tr>\n",
       "  </thead>\n",
       "  <tbody>\n",
       "    <tr>\n",
       "      <th>0</th>\n",
       "      <td>AGER_TYP</td>\n",
       "      <td>person</td>\n",
       "      <td>categorical</td>\n",
       "      <td>[-1,0]</td>\n",
       "    </tr>\n",
       "    <tr>\n",
       "      <th>1</th>\n",
       "      <td>ALTERSKATEGORIE_GROB</td>\n",
       "      <td>person</td>\n",
       "      <td>ordinal</td>\n",
       "      <td>[-1,0,9]</td>\n",
       "    </tr>\n",
       "    <tr>\n",
       "      <th>2</th>\n",
       "      <td>ANREDE_KZ</td>\n",
       "      <td>person</td>\n",
       "      <td>categorical</td>\n",
       "      <td>[-1,0]</td>\n",
       "    </tr>\n",
       "    <tr>\n",
       "      <th>3</th>\n",
       "      <td>CJT_GESAMTTYP</td>\n",
       "      <td>person</td>\n",
       "      <td>categorical</td>\n",
       "      <td>[0]</td>\n",
       "    </tr>\n",
       "    <tr>\n",
       "      <th>4</th>\n",
       "      <td>FINANZ_MINIMALIST</td>\n",
       "      <td>person</td>\n",
       "      <td>ordinal</td>\n",
       "      <td>[-1]</td>\n",
       "    </tr>\n",
       "  </tbody>\n",
       "</table>\n",
       "</div>"
      ],
      "text/plain": [
       "              attribute information_level         type missing_or_unknown\n",
       "0              AGER_TYP            person  categorical             [-1,0]\n",
       "1  ALTERSKATEGORIE_GROB            person      ordinal           [-1,0,9]\n",
       "2             ANREDE_KZ            person  categorical             [-1,0]\n",
       "3         CJT_GESAMTTYP            person  categorical                [0]\n",
       "4     FINANZ_MINIMALIST            person      ordinal               [-1]"
      ]
     },
     "execution_count": 61,
     "metadata": {},
     "output_type": "execute_result"
    }
   ],
   "source": [
    "feat_info.head()"
   ]
  },
  {
   "cell_type": "code",
   "execution_count": null,
   "metadata": {},
   "outputs": [],
   "source": []
  },
  {
   "cell_type": "markdown",
   "metadata": {},
   "source": [
    "> **Tip**: Add additional cells to keep everything in reasonably-sized chunks! Keyboard shortcut `esc --> a` (press escape to enter command mode, then press the 'A' key) adds a new cell before the active cell, and `esc --> b` adds a new cell after the active cell. If you need to convert an active cell to a markdown cell, use `esc --> m` and to convert to a code cell, use `esc --> y`. \n",
    "\n",
    "## Step 1: Preprocessing\n",
    "\n",
    "### Step 1.1: Assess Missing Data\n",
    "\n",
    "The feature summary file contains a summary of properties for each demographics data column. You will use this file to help you make cleaning decisions during this stage of the project. First of all, you should assess the demographics data in terms of missing data. Pay attention to the following points as you perform your analysis, and take notes on what you observe. Make sure that you fill in the **Discussion** cell with your findings and decisions at the end of each step that has one!\n",
    "\n",
    "#### Step 1.1.1: Convert Missing Value Codes to NaNs\n",
    "The fourth column of the feature attributes summary (loaded in above as `feat_info`) documents the codes from the data dictionary that indicate missing or unknown data. While the file encodes this as a list (e.g. `[-1,0]`), this will get read in as a string object. You'll need to do a little bit of parsing to make use of it to identify and clean the data. Convert data that matches a 'missing' or 'unknown' value code into a numpy NaN value. You might want to see how much data takes on a 'missing' or 'unknown' code, and how much data is naturally missing, as a point of interest.\n",
    "\n",
    "**As one more reminder, you are encouraged to add additional cells to break up your analysis into manageable chunks.**"
   ]
  },
  {
   "cell_type": "code",
   "execution_count": 62,
   "metadata": {},
   "outputs": [],
   "source": [
    "# Identify missing or unknown data values and convert them to NaNs.\n",
    "a = feat_info\n",
    "\n",
    "for i,V in enumerate(azdias.iteritems()): \n",
    "    m_u = a['missing_or_unknown'][i] \n",
    "    column_name = V[0] \n",
    "    m_u = m_u[1:-1].split(',') \n",
    "    if m_u != ['']: \n",
    "        hold = [] \n",
    "        for c in m_u: \n",
    "            if c in ['X','XX']: \n",
    "                hold.append(c)\n",
    "                azdias[column_name] = azdias[column_name].replace(hold, np.nan)\n",
    "            else: \n",
    "                hold.append(int(c)) \n",
    "                azdias[column_name] = azdias[column_name].replace(hold, np.nan)"
   ]
  },
  {
   "cell_type": "markdown",
   "metadata": {},
   "source": [
    "#### Step 1.1.2: Assess Missing Data in Each Column\n",
    "\n",
    "How much missing data is present in each column? There are a few columns that are outliers in terms of the proportion of values that are missing. You will want to use matplotlib's [`hist()`](https://matplotlib.org/api/_as_gen/matplotlib.pyplot.hist.html) function to visualize the distribution of missing value counts to find these columns. Identify and document these columns. While some of these columns might have justifications for keeping or re-encoding the data, for this project you should just remove them from the dataframe. (Feel free to make remarks about these outlier columns in the discussion, however!)\n",
    "\n",
    "For the remaining features, are there any patterns in which columns have, or share, missing data?"
   ]
  },
  {
   "cell_type": "code",
   "execution_count": 63,
   "metadata": {},
   "outputs": [
    {
     "name": "stdout",
     "output_type": "stream",
     "text": [
      "True\n",
      "['AGER_TYP', 'ALTERSKATEGORIE_GROB', 'CJT_GESAMTTYP', 'GEBURTSJAHR', 'GFK_URLAUBERTYP', 'HEALTH_TYP', 'LP_LEBENSPHASE_FEIN', 'LP_LEBENSPHASE_GROB', 'LP_FAMILIE_FEIN', 'LP_FAMILIE_GROB', 'LP_STATUS_FEIN', 'LP_STATUS_GROB', 'NATIONALITAET_KZ', 'PRAEGENDE_JUGENDJAHRE', 'RETOURTYP_BK_S', 'SHOPPER_TYP', 'SOHO_KZ', 'TITEL_KZ', 'VERS_TYP', 'ALTER_HH', 'ANZ_PERSONEN', 'ANZ_TITEL', 'HH_EINKOMMEN_SCORE', 'KK_KUNDENTYP', 'W_KEIT_KIND_HH', 'WOHNDAUER_2008', 'ANZ_HAUSHALTE_AKTIV', 'ANZ_HH_TITEL', 'GEBAEUDETYP', 'KONSUMNAEHE', 'MIN_GEBAEUDEJAHR', 'OST_WEST_KZ', 'WOHNLAGE', 'CAMEO_DEUG_2015', 'CAMEO_DEU_2015', 'CAMEO_INTL_2015', 'KBA05_ANTG1', 'KBA05_ANTG2', 'KBA05_ANTG3', 'KBA05_ANTG4', 'KBA05_BAUMAX', 'KBA05_GBZ', 'BALLRAUM', 'EWDICHTE', 'INNENSTADT', 'GEBAEUDETYP_RASTER', 'KKK', 'MOBI_REGIO', 'ONLINE_AFFINITAET', 'REGIOTYP', 'KBA13_ANZAHL_PKW', 'PLZ8_ANTG1', 'PLZ8_ANTG2', 'PLZ8_ANTG3', 'PLZ8_ANTG4', 'PLZ8_BAUMAX', 'PLZ8_HHZ', 'PLZ8_GBZ', 'ARBEIT', 'ORTSGR_KLS9', 'RELAT_AB']\n",
      "AGER_TYP : 685843\n",
      "ALTERSKATEGORIE_GROB : 2881\n",
      "CJT_GESAMTTYP : 4854\n",
      "GEBURTSJAHR : 392318\n",
      "GFK_URLAUBERTYP : 4854\n",
      "HEALTH_TYP : 111196\n",
      "LP_LEBENSPHASE_FEIN : 97632\n",
      "LP_LEBENSPHASE_GROB : 94572\n",
      "LP_FAMILIE_FEIN : 77792\n",
      "LP_FAMILIE_GROB : 77792\n",
      "LP_STATUS_FEIN : 4854\n",
      "LP_STATUS_GROB : 4854\n",
      "NATIONALITAET_KZ : 108315\n",
      "PRAEGENDE_JUGENDJAHRE : 108164\n",
      "RETOURTYP_BK_S : 4854\n",
      "SHOPPER_TYP : 111196\n",
      "SOHO_KZ : 73499\n",
      "TITEL_KZ : 889061\n",
      "VERS_TYP : 111196\n",
      "ALTER_HH : 310267\n",
      "ANZ_PERSONEN : 73499\n",
      "ANZ_TITEL : 73499\n",
      "HH_EINKOMMEN_SCORE : 18348\n",
      "KK_KUNDENTYP : 584612\n",
      "W_KEIT_KIND_HH : 147988\n",
      "WOHNDAUER_2008 : 73499\n",
      "ANZ_HAUSHALTE_AKTIV : 99611\n",
      "ANZ_HH_TITEL : 97008\n",
      "GEBAEUDETYP : 93148\n",
      "KONSUMNAEHE : 73969\n",
      "MIN_GEBAEUDEJAHR : 93148\n",
      "OST_WEST_KZ : 93148\n",
      "WOHNLAGE : 93148\n",
      "CAMEO_DEUG_2015 : 99352\n",
      "CAMEO_DEU_2015 : 99352\n",
      "CAMEO_INTL_2015 : 99352\n",
      "KBA05_ANTG1 : 133324\n",
      "KBA05_ANTG2 : 133324\n",
      "KBA05_ANTG3 : 133324\n",
      "KBA05_ANTG4 : 133324\n",
      "KBA05_BAUMAX : 476524\n",
      "KBA05_GBZ : 133324\n",
      "BALLRAUM : 93740\n",
      "EWDICHTE : 93740\n",
      "INNENSTADT : 93740\n",
      "GEBAEUDETYP_RASTER : 93155\n",
      "KKK : 158064\n",
      "MOBI_REGIO : 133324\n",
      "ONLINE_AFFINITAET : 4854\n",
      "REGIOTYP : 158064\n",
      "KBA13_ANZAHL_PKW : 105800\n",
      "PLZ8_ANTG1 : 116515\n",
      "PLZ8_ANTG2 : 116515\n",
      "PLZ8_ANTG3 : 116515\n",
      "PLZ8_ANTG4 : 116515\n",
      "PLZ8_BAUMAX : 116515\n",
      "PLZ8_HHZ : 116515\n",
      "PLZ8_GBZ : 116515\n",
      "ARBEIT : 97375\n",
      "ORTSGR_KLS9 : 97274\n",
      "RELAT_AB : 97375\n"
     ]
    }
   ],
   "source": [
    "def check_missing_values(df):\n",
    "    columns_with_Nan =[]\n",
    "    values = []\n",
    "    print (df.isnull().values.any())\n",
    "    if (df.isnull().values.any() == True):\n",
    "        columns_with_Nan = df.columns[df.isnull().any()].tolist()\n",
    "    print(columns_with_Nan)\n",
    "    for col in columns_with_Nan:\n",
    "        print(\"%s : %d\" % (col, df[col].isnull().sum()))\n",
    "        values.append(df[col].isnull().sum())\n",
    "    return columns_with_Nan ,values   \n",
    "tmp,values = check_missing_values(azdias)"
   ]
  },
  {
   "cell_type": "code",
   "execution_count": 64,
   "metadata": {},
   "outputs": [],
   "source": [
    "proportion = []\n",
    "for count,value in enumerate(values):\n",
    "    #print(count,value)\n",
    "    proportion.append(value/len(azdias)*100)\n",
    "    #print(proportion)"
   ]
  },
  {
   "cell_type": "code",
   "execution_count": 65,
   "metadata": {},
   "outputs": [],
   "source": [
    "percent = pd.DataFrame(\n",
    "    {'colnames': tmp,\n",
    "     'value': proportion\n",
    "    })"
   ]
  },
  {
   "cell_type": "code",
   "execution_count": 66,
   "metadata": {},
   "outputs": [
    {
     "data": {
      "text/plain": [
       "<matplotlib.axes._subplots.AxesSubplot at 0x7fe9916d1828>"
      ]
     },
     "execution_count": 66,
     "metadata": {},
     "output_type": "execute_result"
    },
    {
     "data": {
      "image/png": "[encoded data removed]",
      "text/plain": [
       "<matplotlib.figure.Figure at 0x7fe9914662b0>"
      ]
     },
     "metadata": {},
     "output_type": "display_data"
    }
   ],
   "source": [
    "percent.plot.bar(x='colnames',y='value',figsize=(15,5))"
   ]
  },
  {
   "cell_type": "code",
   "execution_count": 67,
   "metadata": {},
   "outputs": [
    {
     "data": {
      "text/plain": [
       "['AGER_TYP',\n",
       " 'GEBURTSJAHR',\n",
       " 'TITEL_KZ',\n",
       " 'ALTER_HH',\n",
       " 'KK_KUNDENTYP',\n",
       " 'KBA05_BAUMAX']"
      ]
     },
     "execution_count": 67,
     "metadata": {},
     "output_type": "execute_result"
    }
   ],
   "source": [
    "remove_list = (percent['colnames'][percent['value'] >20]).values.tolist()\n",
    "remove_list"
   ]
  },
  {
   "cell_type": "code",
   "execution_count": 68,
   "metadata": {},
   "outputs": [
    {
     "data": {
      "text/plain": [
       "(891221, 79)"
      ]
     },
     "execution_count": 68,
     "metadata": {},
     "output_type": "execute_result"
    }
   ],
   "source": [
    "azdias.drop(remove_list,axis=1,inplace=True)\n",
    "azdias.shape"
   ]
  },
  {
   "cell_type": "markdown",
   "metadata": {},
   "source": [
    "#### Discussion 1.1.2: Assess Missing Data in Each Column\n",
    "\n",
    "I'm going to remove those columns with missing value % is larger than 20%:<br>\n",
    "AGER_TYP<br>\n",
    "GEBURTSJAHR<br>\n",
    "TITEL_KZ<br>\n",
    "ALTER_HH<br>\n",
    "KK_KUNDENTYP\n",
    "\n",
    "We can see some patterns in those columns with missing values. For example:\n",
    "<br>PLZ8_ANTG1 : 116515<br>\n",
    "PLZ8_ANTG2 : 116515<br>\n",
    "PLZ8_ANTG3 : 116515<br>\n",
    "PLZ8_ANTG4 : 116515<br>\n",
    "PLZ8_BAUMAX : 116515<br>\n",
    "PLZ8_HHZ : 116515<br>\n",
    "PLZ8_GBZ : 116515<br>\n",
    "or<br>\n",
    "CAMEO_DEUG_2015 : 98979<br>\n",
    "CAMEO_DEU_2015 : 98979<br>\n",
    "CAMEO_INTL_2015 : 98979<br>\n",
    "or<br>\n",
    "KBA05_ANTG1 : 133324<br>\n",
    "KBA05_ANTG2 : 133324<br>\n",
    "KBA05_ANTG3 : 133324<br>\n",
    "KBA05_ANTG4 : 133324<br>\n",
    "KBA05_BAUMAX : 133324<br>\n",
    "KBA05_GBZ : 133324<br>\n",
    "<br>\n",
    "which have same amount of missing values."
   ]
  },
  {
   "cell_type": "markdown",
   "metadata": {},
   "source": [
    "#### Step 1.1.3: Assess Missing Data in Each Row\n",
    "\n",
    "Now, you'll perform a similar assessment for the rows of the dataset. How much data is missing in each row? As with the columns, you should see some groups of points that have a very different numbers of missing values. Divide the data into two subsets: one for data points that are above some threshold for missing values, and a second subset for points below that threshold.\n",
    "\n",
    "In order to know what to do with the outlier rows, we should see if the distribution of data values on columns that are not missing data (or are missing very little data) are similar or different between the two groups. Select at least five of these columns and compare the distribution of values.\n",
    "- You can use seaborn's [`countplot()`](https://seaborn.pydata.org/generated/seaborn.countplot.html) function to create a bar chart of code frequencies and matplotlib's [`subplot()`](https://matplotlib.org/api/_as_gen/matplotlib.pyplot.subplot.html) function to put bar charts for the two subplots side by side.\n",
    "- To reduce repeated code, you might want to write a function that can perform this comparison, taking as one of its arguments a column to be compared.\n",
    "\n",
    "Depending on what you observe in your comparison, this will have implications on how you approach your conclusions later in the analysis. If the distributions of non-missing features look similar between the data with many missing values and the data with few or no missing values, then we could argue that simply dropping those points from the analysis won't present a major issue. On the other hand, if the data with many missing values looks very different from the data with few or no missing values, then we should make a note on those data as special. Make sure you report your observations in the discussion section. **Either way, you should continue your analysis below using just the subset of the data with few or no missing values.**"
   ]
  },
  {
   "cell_type": "code",
   "execution_count": 69,
   "metadata": {},
   "outputs": [
    {
     "data": {
      "text/plain": [
       "<matplotlib.axes._subplots.AxesSubplot at 0x7fe9911e25c0>"
      ]
     },
     "execution_count": 69,
     "metadata": {},
     "output_type": "execute_result"
    },
    {
     "data": {
      "image/png": "[encoded data removed]",
      "text/plain": [
       "<matplotlib.figure.Figure at 0x7fe99141d630>"
      ]
     },
     "metadata": {},
     "output_type": "display_data"
    }
   ],
   "source": [
    "# How much data is missing in each row of the dataset?\n",
    "plt.figure(figsize=(15,5))\n",
    "sns.countplot(azdias.isnull().sum(axis=1))"
   ]
  },
  {
   "cell_type": "code",
   "execution_count": 70,
   "metadata": {},
   "outputs": [
    {
     "name": "stdout",
     "output_type": "stream",
     "text": [
      "(697109, 79) (171597, 79)\n"
     ]
    }
   ],
   "source": [
    "# Write code to divide the data into two subsets based on the number of missing\n",
    "# values in each row.\n",
    "threshold = 5\n",
    "subset = azdias.loc[azdias.isnull().sum(axis=1)<threshold].copy()\n",
    "subset_nan = azdias.loc[azdias.isnull().sum(axis=1)>threshold].copy()\n",
    "print(subset.shape,subset_nan.shape)"
   ]
  },
  {
   "cell_type": "code",
   "execution_count": 71,
   "metadata": {},
   "outputs": [
    {
     "data": {
      "image/png": "[encoded data removed]",
      "text/plain": [
       "<matplotlib.figure.Figure at 0x7fe990c40c50>"
      ]
     },
     "metadata": {},
     "output_type": "display_data"
    },
    {
     "data": {
      "image/png": "[encoded data removed]",
      "text/plain": [
       "<matplotlib.figure.Figure at 0x7fe990c402e8>"
      ]
     },
     "metadata": {},
     "output_type": "display_data"
    },
    {
     "data": {
      "image/png": "[encoded data removed]",
      "text/plain": [
       "<matplotlib.figure.Figure at 0x7fe990bbf438>"
      ]
     },
     "metadata": {},
     "output_type": "display_data"
    },
    {
     "data": {
      "image/png": "[encoded data removed]",
      "text/plain": [
       "<matplotlib.figure.Figure at 0x7fe9913403c8>"
      ]
     },
     "metadata": {},
     "output_type": "display_data"
    },
    {
     "data": {
      "image/png": "[encoded data removed]",
      "text/plain": [
       "<matplotlib.figure.Figure at 0x7fe990ec8198>"
      ]
     },
     "metadata": {},
     "output_type": "display_data"
    },
    {
     "data": {
      "image/png": "[encoded data removed]",
      "text/plain": [
       "<matplotlib.figure.Figure at 0x7fe990ec8208>"
      ]
     },
     "metadata": {},
     "output_type": "display_data"
    }
   ],
   "source": [
    "# Compare the distribution of values for at least five columns where there are\n",
    "# no or few missing values, between the two subsets.\n",
    "def compare_plot(col):\n",
    "    f, (ax1, ax2) = plt.subplots(1, 2, sharey=False)\n",
    "    sns.countplot(subset[col],ax=ax1)\n",
    "    sns.countplot(subset_nan[col],ax=ax2)\n",
    "#compare_plot('KBA05_ANTG1') #okay to remove this column and the one which has same patterns:KBA05_ANTG2,KBA05_ANTG3...\n",
    "compare_plot('ANZ_PERSONEN')#okay to remove\n",
    "#compare_plot('HH_EINKOMMEN_SCORE') #won't be removed due to difference in distribution between 2 subsets\n",
    "compare_plot('KKK') #okay to remove\n",
    "compare_plot('LP_FAMILIE_GROB')#okay to remove\n",
    "compare_plot('GEBAEUDETYP')#okay to remove\n",
    "#compare_plot('LP_FAMILIE_FEIN')#okay to remove\n",
    "#compare_plot('LP_LEBENSPHASE_GROB')#okay to remove\n",
    "compare_plot('LP_LEBENSPHASE_FEIN')#won't be removed due to difference in distribution between 2 subsets\n",
    "#compare_plot('PLZ8_GBZ')#okay to remove this column and the one which has same patterns:PLZ8_*...\n",
    "compare_plot('HEALTH_TYP') #won't be removeddue to difference in distribution between 2 subsets\n",
    "remove_again = ['KBA05_ANTG1','KBA05_ANTG2','KBA05_ANTG3','KBA05_ANTG4','PLZ8_ANTG1','PLZ8_ANTG2','PLZ8_ANTG3','KKK',\n",
    "                'PLZ8_ANTG4','PLZ8_BAUMAX','ANZ_PERSONEN','PLZ8_HHZ','PLZ8_GBZ','LP_FAMILIE_GROB','LP_FAMILIE_FEIN'\n",
    "               ,'GEBAEUDETYP']"
   ]
  },
  {
   "cell_type": "code",
   "execution_count": 72,
   "metadata": {},
   "outputs": [
    {
     "data": {
      "text/plain": [
       "(697109, 63)"
      ]
     },
     "execution_count": 72,
     "metadata": {},
     "output_type": "execute_result"
    }
   ],
   "source": [
    "subset.drop(remove_again,axis=1,inplace=True)\n",
    "subset.shape"
   ]
  },
  {
   "cell_type": "code",
   "execution_count": 73,
   "metadata": {},
   "outputs": [],
   "source": [
    "full_remove = remove_list+remove_again"
   ]
  },
  {
   "cell_type": "markdown",
   "metadata": {},
   "source": [
    "#### Discussion 1.1.3: Assess Missing Data in Each Row\n",
    "\n",
    "(Double-click this cell and replace this text with your own text, reporting your observations regarding missing data in rows. Are the data with lots of missing values are qualitatively different from data with few or no missing values?)\n",
    "<br>\n",
    "Yes, the data with lots of missing values are qualitatively different from data with few or no missing values\n",
    "<br>So I removed these columns<br>\n",
    "'KBA05_ANTG1','KBA05_ANTG2','KBA05_ANTG3','KBA05_ANTG4','PLZ8_ANTG1','PLZ8_ANTG2','PLZ8_ANTG3','KKK',\n",
    "                'PLZ8_ANTG4','PLZ8_BAUMAX','ANZ_PERSONEN','PLZ8_HHZ','PLZ8_GBZ','LP_FAMILIE_GROB','LP_FAMILIE_FEIN'"
   ]
  },
  {
   "cell_type": "markdown",
   "metadata": {},
   "source": [
    "### Step 1.2: Select and Re-Encode Features\n",
    "\n",
    "Checking for missing data isn't the only way in which you can prepare a dataset for analysis. Since the unsupervised learning techniques to be used will only work on data that is encoded numerically, you need to make a few encoding changes or additional assumptions to be able to make progress. In addition, while almost all of the values in the dataset are encoded using numbers, not all of them represent numeric values. Check the third column of the feature summary (`feat_info`) for a summary of types of measurement.\n",
    "- For numeric and interval data, these features can be kept without changes.\n",
    "- Most of the variables in the dataset are ordinal in nature. While ordinal values may technically be non-linear in spacing, make the simplifying assumption that the ordinal variables can be treated as being interval in nature (that is, kept without any changes).\n",
    "- Special handling may be necessary for the remaining two variable types: categorical, and 'mixed'.\n",
    "\n",
    "In the first two parts of this sub-step, you will perform an investigation of the categorical and mixed-type features and make a decision on each of them, whether you will keep, drop, or re-encode each. Then, in the last part, you will create a new data frame with only the selected and engineered columns.\n",
    "\n",
    "Data wrangling is often the trickiest part of the data analysis process, and there's a lot of it to be done here. But stick with it: once you're done with this step, you'll be ready to get to the machine learning parts of the project!"
   ]
  },
  {
   "cell_type": "code",
   "execution_count": 74,
   "metadata": {},
   "outputs": [
    {
     "data": {
      "text/plain": [
       "(63, 4)"
      ]
     },
     "execution_count": 74,
     "metadata": {},
     "output_type": "execute_result"
    }
   ],
   "source": [
    "feat_info_remove=feat_info.loc[~feat_info['attribute'].isin(full_remove)]\n",
    "feat_info_remove.shape"
   ]
  },
  {
   "cell_type": "code",
   "execution_count": 75,
   "metadata": {},
   "outputs": [
    {
     "data": {
      "text/plain": [
       "ordinal        38\n",
       "categorical    15\n",
       "numeric         5\n",
       "mixed           5\n",
       "Name: type, dtype: int64"
      ]
     },
     "execution_count": 75,
     "metadata": {},
     "output_type": "execute_result"
    }
   ],
   "source": [
    "# How many features are there of each data type?\n",
    "feat_info_remove['type'].value_counts()"
   ]
  },
  {
   "cell_type": "code",
   "execution_count": 76,
   "metadata": {},
   "outputs": [],
   "source": [
    "categorical = feat_info_remove['attribute'].loc[feat_info_remove['type']=='categorical']\n",
    "#ordinal = feat_info_remove['attribute'].loc[feat_info_remove['type']=='ordinal']\n",
    "#numeric = feat_info_remove['attribute'].loc[feat_info_remove['type']=='numeric']\n",
    "#mixed = feat_info_remove['attribute'].loc[feat_info_remove['type']=='mixed']"
   ]
  },
  {
   "cell_type": "markdown",
   "metadata": {},
   "source": [
    "#### Step 1.2.1: Re-Encode Categorical Features\n",
    "\n",
    "For categorical data, you would ordinarily need to encode the levels as dummy variables. Depending on the number of categories, perform one of the following:\n",
    "- For binary (two-level) categoricals that take numeric values, you can keep them without needing to do anything.\n",
    "- There is one binary variable that takes on non-numeric values. For this one, you need to re-encode the values as numbers or create a dummy variable.\n",
    "- For multi-level categoricals (three or more values), you can choose to encode the values using multiple dummy variables (e.g. via [OneHotEncoder](http://scikit-learn.org/stable/modules/generated/sklearn.preprocessing.OneHotEncoder.html)), or (to keep things straightforward) just drop them from the analysis. As always, document your choices in the Discussion section."
   ]
  },
  {
   "cell_type": "code",
   "execution_count": 77,
   "metadata": {},
   "outputs": [
    {
     "data": {
      "text/plain": [
       "ANREDE_KZ             int64\n",
       "CJT_GESAMTTYP       float64\n",
       "FINANZTYP             int64\n",
       "GFK_URLAUBERTYP     float64\n",
       "GREEN_AVANTGARDE      int64\n",
       "LP_STATUS_FEIN      float64\n",
       "LP_STATUS_GROB      float64\n",
       "NATIONALITAET_KZ    float64\n",
       "SHOPPER_TYP         float64\n",
       "SOHO_KZ             float64\n",
       "VERS_TYP            float64\n",
       "ZABEOTYP              int64\n",
       "OST_WEST_KZ          object\n",
       "CAMEO_DEUG_2015      object\n",
       "CAMEO_DEU_2015       object\n",
       "dtype: object"
      ]
     },
     "execution_count": 77,
     "metadata": {},
     "output_type": "execute_result"
    }
   ],
   "source": [
    "# Assess categorical variables: which are binary, which are multi-level, and\n",
    "# which one needs to be re-encoded?\n",
    "subset[categorical.values].dtypes"
   ]
  },
  {
   "cell_type": "code",
   "execution_count": 78,
   "metadata": {},
   "outputs": [
    {
     "data": {
      "text/plain": [
       "ANREDE_KZ            2\n",
       "CJT_GESAMTTYP        6\n",
       "FINANZTYP            6\n",
       "GFK_URLAUBERTYP     12\n",
       "GREEN_AVANTGARDE     2\n",
       "LP_STATUS_FEIN      10\n",
       "LP_STATUS_GROB       5\n",
       "NATIONALITAET_KZ     3\n",
       "SHOPPER_TYP          4\n",
       "SOHO_KZ              2\n",
       "VERS_TYP             2\n",
       "ZABEOTYP             6\n",
       "OST_WEST_KZ          2\n",
       "CAMEO_DEUG_2015      9\n",
       "CAMEO_DEU_2015      44\n",
       "dtype: int64"
      ]
     },
     "execution_count": 78,
     "metadata": {},
     "output_type": "execute_result"
    }
   ],
   "source": [
    "subset[categorical.values].nunique()\n",
    "#We can see that ANREDE_KZ,GREEN_AVANTGARDE,SOHO_KZ,VERS_TYP,OST_WEST_KZ is binary category. Combine with \n",
    "#the dtypes information from above, we can point out the binary variables which take non-numeric is OST_WEST_KZ"
   ]
  },
  {
   "cell_type": "code",
   "execution_count": 79,
   "metadata": {},
   "outputs": [],
   "source": [
    "#select multilevel category columns\n",
    "multilevel = subset[categorical.values].columns[subset[categorical.values].nunique()>2]\n",
    "#print(multilevel)"
   ]
  },
  {
   "cell_type": "code",
   "execution_count": 80,
   "metadata": {},
   "outputs": [
    {
     "data": {
      "text/plain": [
       "(697109, 64)"
      ]
     },
     "execution_count": 80,
     "metadata": {},
     "output_type": "execute_result"
    }
   ],
   "source": [
    "subset_dummy = pd.get_dummies(subset, prefix=['OST_WEST_KZ'],columns=['OST_WEST_KZ'])\n",
    "subset_dummy.shape"
   ]
  },
  {
   "cell_type": "code",
   "execution_count": 81,
   "metadata": {},
   "outputs": [
    {
     "data": {
      "text/plain": [
       "(697109, 159)"
      ]
     },
     "execution_count": 81,
     "metadata": {},
     "output_type": "execute_result"
    }
   ],
   "source": [
    "subset_dummy = pd.get_dummies(subset_dummy, prefix=multilevel,columns=multilevel)\n",
    "subset_dummy.shape"
   ]
  },
  {
   "cell_type": "markdown",
   "metadata": {},
   "source": [
    "#### Discussion 1.2.1: Re-Encode Categorical Features\n",
    "\n",
    "(Double-click this cell and replace this text with your own text, reporting your findings and decisions regarding categorical features. Which ones did you keep, which did you drop, and what engineering steps did you perform?)\n",
    "<br>\n",
    "#We can see that ANREDE_KZ,GREEN_AVANTGARDE,SOHO_KZ,VERS_TYP,OST_WEST_KZ is binary category. Combine with the dtypes information from above, we can point out the binary variables which take non-numeric is OST_WEST_KZ\n",
    "<br>\n",
    "Then i select those columns which are multi-level category and encode them by pandas get_dummies"
   ]
  },
  {
   "cell_type": "markdown",
   "metadata": {},
   "source": [
    "#### Step 1.2.2: Engineer Mixed-Type Features\n",
    "\n",
    "There are a handful of features that are marked as \"mixed\" in the feature summary that require special treatment in order to be included in the analysis. There are two in particular that deserve attention; the handling of the rest are up to your own choices:\n",
    "- \"PRAEGENDE_JUGENDJAHRE\" combines information on three dimensions: generation by decade, movement (mainstream vs. avantgarde), and nation (east vs. west). While there aren't enough levels to disentangle east from west, you should create two new variables to capture the other two dimensions: an interval-type variable for decade, and a binary variable for movement.\n",
    "- \"CAMEO_INTL_2015\" combines information on two axes: wealth and life stage. Break up the two-digit codes by their 'tens'-place and 'ones'-place digits into two new ordinal variables (which, for the purposes of this project, is equivalent to just treating them as their raw numeric values).\n",
    "- If you decide to keep or engineer new features around the other mixed-type features, make sure you note your steps in the Discussion section.\n",
    "\n",
    "Be sure to check `Data_Dictionary.md` for the details needed to finish these tasks."
   ]
  },
  {
   "cell_type": "code",
   "execution_count": 82,
   "metadata": {},
   "outputs": [
    {
     "data": {
      "text/plain": [
       "array([ 14.,  15.,   8.,   3.,  10.,  11.,   9.,   6.,   4.,  nan,   5.,\n",
       "         2.,   1.,  12.,  13.,   7.])"
      ]
     },
     "execution_count": 82,
     "metadata": {},
     "output_type": "execute_result"
    }
   ],
   "source": [
    "# Investigate \"PRAEGENDE_JUGENDJAHRE\" and engineer two new variables.\n",
    "subset['PRAEGENDE_JUGENDJAHRE'].unique()\n"
   ]
  },
  {
   "cell_type": "code",
   "execution_count": 83,
   "metadata": {},
   "outputs": [],
   "source": [
    "#Create dict fro DataDictionary for engineer two new variables from PRAEGENDE_JUGENDJAHRE\n",
    "decade = {1:'40s',2:'40s',3:'50s',4:'50s',5:'60s',6:'60s',7:'60s',8:'70s',9:'70s',10:'80s',\n",
    "             11:'80s',12:'80s',13:'80s',14:'90s',15:'90s'}\n",
    "\n",
    "movement = {1:'Mainstream',2:'Avantgarde',3:'Mainstream',4:'Avantgarde',5:'Mainstream',6:'Avantgarde',\n",
    "             7:'Avantgarde',8:'Mainstream',9:'Avantgarde',10:'Mainstream',11:'Avantgarde',\n",
    "             12:'Mainstream',13:'Avantgarde',14:'Mainstream',15:'Avantgarde'}"
   ]
  },
  {
   "cell_type": "code",
   "execution_count": 84,
   "metadata": {},
   "outputs": [],
   "source": [
    "subset_dummy['decade'] = subset_dummy['PRAEGENDE_JUGENDJAHRE'].map(decade)\n",
    "subset_dummy['movement'] = subset_dummy['PRAEGENDE_JUGENDJAHRE'].map(movement)"
   ]
  },
  {
   "cell_type": "code",
   "execution_count": 85,
   "metadata": {},
   "outputs": [
    {
     "data": {
      "text/plain": [
       "(697109, 161)"
      ]
     },
     "execution_count": 85,
     "metadata": {},
     "output_type": "execute_result"
    }
   ],
   "source": [
    "subset_dummy.shape"
   ]
  },
  {
   "cell_type": "code",
   "execution_count": 86,
   "metadata": {},
   "outputs": [
    {
     "data": {
      "text/plain": [
       "array(['51', '24', '43', '54', '22', '14', '13', '15', '34', '55', '12',\n",
       "       '41', '25', nan, '23', '31', '52', '35', '45', '33', '44', '32'], dtype=object)"
      ]
     },
     "execution_count": 86,
     "metadata": {},
     "output_type": "execute_result"
    }
   ],
   "source": [
    "# Investigate \"CAMEO_INTL_2015\" and engineer two new variables.\n",
    "subset['CAMEO_INTL_2015'].unique()"
   ]
  },
  {
   "cell_type": "code",
   "execution_count": 87,
   "metadata": {},
   "outputs": [],
   "source": [
    "#wealth and life stage. \n",
    "#Break up the two-digit codes by their 'tens'-place and 'ones'-place digits into two new ordinal variables \n",
    "#(which, for the purposes of this project, is equivalent to just treating them as their raw numeric values).\n",
    "wealth = {'11':5,'12':5,'13':5,'14':5,'15':5,\n",
    "          '21':4,'22':4,'23':4,'24':4,'25':4, \n",
    "          '31':3,'32':3,'33':3,'34':3,'35':3,\n",
    "          '41':2,'42':2,'43':2,'44':2,'45':2,\n",
    "          '51':1,'52':1,'53':1,'54':1,'55':1}\n",
    "\n",
    "lifestage = {'11':1,'12':2,'13':3,'14':4,'15':5,\n",
    "             '21':1,'22':2,'23':3,'24':4,'25':5,\n",
    "             '31':1,'32':2,'33':3,'34':4,'35':5,\n",
    "             '41':1,'42':2,'43':3,'44':4,'45':5,\n",
    "             '51':1,'52':2,'53':3,'54':4,'55':5}"
   ]
  },
  {
   "cell_type": "code",
   "execution_count": 88,
   "metadata": {},
   "outputs": [],
   "source": [
    "subset_dummy['wealth'] = subset_dummy['CAMEO_INTL_2015'].map(wealth)\n",
    "subset_dummy['lifestage'] = subset_dummy['CAMEO_INTL_2015'].map(lifestage)"
   ]
  },
  {
   "cell_type": "code",
   "execution_count": 89,
   "metadata": {},
   "outputs": [
    {
     "data": {
      "text/plain": [
       "(697109, 163)"
      ]
     },
     "execution_count": 89,
     "metadata": {},
     "output_type": "execute_result"
    }
   ],
   "source": [
    "subset_dummy.shape"
   ]
  },
  {
   "cell_type": "markdown",
   "metadata": {},
   "source": [
    "#### Discussion 1.2.2: Engineer Mixed-Type Features\n",
    "\n",
    "(Double-click this cell and replace this text with your own text, reporting your findings and decisions regarding mixed-value features. Which ones did you keep, which did you drop, and what engineering steps did you perform?)\n",
    "<br>\n",
    "Engineering new features from columns' name <br>\n",
    "'CAMEO_INTL_2015' : wealth and lifestage (ordinal value)\n",
    "<br>\n",
    "'PRAEGENDE_JUGENDJAHRE': movement and decade (multi-level categorical value)\n",
    "<br>\n",
    "For other mixed type columns, i didn't touch any of them."
   ]
  },
  {
   "cell_type": "markdown",
   "metadata": {},
   "source": [
    "#### Step 1.2.3: Complete Feature Selection\n",
    "\n",
    "In order to finish this step up, you need to make sure that your data frame now only has the columns that you want to keep. To summarize, the dataframe should consist of the following:\n",
    "- All numeric, interval, and ordinal type columns from the original dataset.\n",
    "- Binary categorical features (all numerically-encoded).\n",
    "- Engineered features from other multi-level categorical features and mixed features.\n",
    "\n",
    "Make sure that for any new columns that you have engineered, that you've excluded the original columns from the final dataset. Otherwise, their values will interfere with the analysis later on the project. For example, you should not keep \"PRAEGENDE_JUGENDJAHRE\", since its values won't be useful for the algorithm: only the values derived from it in the engineered features you created should be retained. As a reminder, your data should only be from **the subset with few or no missing values**."
   ]
  },
  {
   "cell_type": "code",
   "execution_count": 90,
   "metadata": {},
   "outputs": [
    {
     "data": {
      "text/plain": [
       "(697109, 169)"
      ]
     },
     "execution_count": 90,
     "metadata": {},
     "output_type": "execute_result"
    }
   ],
   "source": [
    "# If there are other re-engineering tasks you need to perform, make sure you\n",
    "# take care of them here. (Dealing with missing data will come in step 2.1.)\n",
    "subset_dummy = pd.get_dummies(subset_dummy, prefix=['decade','movement'],columns=['decade','movement'])\n",
    "subset_dummy.shape"
   ]
  },
  {
   "cell_type": "code",
   "execution_count": 91,
   "metadata": {},
   "outputs": [
    {
     "data": {
      "text/plain": [
       "(697109, 167)"
      ]
     },
     "execution_count": 91,
     "metadata": {},
     "output_type": "execute_result"
    }
   ],
   "source": [
    "subset_dummy.drop(['CAMEO_INTL_2015', 'PRAEGENDE_JUGENDJAHRE'], axis=1, inplace=True)\n",
    "subset_dummy.shape"
   ]
  },
  {
   "cell_type": "markdown",
   "metadata": {},
   "source": [
    "### Step 1.3: Create a Cleaning Function\n",
    "\n",
    "Even though you've finished cleaning up the general population demographics data, it's important to look ahead to the future and realize that you'll need to perform the same cleaning steps on the customer demographics data. In this substep, complete the function below to execute the main feature selection, encoding, and re-engineering steps you performed above. Then, when it comes to looking at the customer data in Step 3, you can just run this function on that DataFrame to get the trimmed dataset in a single step."
   ]
  },
  {
   "cell_type": "code",
   "execution_count": 92,
   "metadata": {},
   "outputs": [],
   "source": [
    "def clean_data(df):\n",
    "    \"\"\"\n",
    "    Perform feature trimming, re-encoding, and engineering for demographics\n",
    "    data\n",
    "    \n",
    "    INPUT: Demographics DataFrame\n",
    "    OUTPUT: Trimmed and cleaned demographics DataFrame\n",
    "    \"\"\"\n",
    "    # Identify missing or unknown data values and convert them to NaNs.\n",
    "    a = feat_info\n",
    "    # Put in code here to execute all main cleaning steps:\n",
    "    # convert missing value codes into NaNs, ...\n",
    "    for i,V in enumerate(df.iteritems()): \n",
    "        m_u = a['missing_or_unknown'][i] \n",
    "        column_name = V[0] \n",
    "        m_u = m_u[1:-1].split(',') \n",
    "        if m_u != ['']: \n",
    "            hold = [] \n",
    "            for c in m_u: \n",
    "                if c in ['X','XX']: \n",
    "                    hold.append(c)\n",
    "                    df[column_name] = df[column_name].replace(hold, np.nan)\n",
    "                else: \n",
    "                    hold.append(int(c)) \n",
    "                    df[column_name] = df[column_name].replace(hold, np.nan)\n",
    "    # remove selected columns and rows, ...\n",
    "    #I will use the same removed columns as in Azdias sample\n",
    "    df.drop(full_remove,axis=1,inplace=True)\n",
    "    feat_info_remove=a.loc[~a['attribute'].isin(full_remove)]\n",
    "    # select, re-encode, and engineer column values.\n",
    "    categorical = feat_info_remove['attribute'].loc[feat_info_remove['type']=='categorical']\n",
    "    #ordinal = feat_info_remove['attribute'].loc[feat_info_remove['type']=='ordinal']\n",
    "    #numeric = feat_info_remove['attribute'].loc[feat_info_remove['type']=='numeric']\n",
    "    #mixed = feat_info_remove['attribute'].loc[feat_info_remove['type']=='mixed']\n",
    "    # select, re-encode, and engineer column values.\n",
    "    df_multilevel = df[categorical.values].columns[df[categorical.values].nunique()>2]\n",
    "    df_dummy = pd.get_dummies(df, prefix=['OST_WEST_KZ'],columns=['OST_WEST_KZ'])\n",
    "    df_dummy = pd.get_dummies(df_dummy, prefix=df_multilevel,columns=df_multilevel)\n",
    "    df_dummy['decade'] = df_dummy['PRAEGENDE_JUGENDJAHRE'].map(decade)\n",
    "    df_dummy['movement'] = df_dummy['PRAEGENDE_JUGENDJAHRE'].map(movement)\n",
    "    df_dummy['wealth'] = df_dummy['CAMEO_INTL_2015'].map(wealth)\n",
    "    df_dummy['lifestage'] = df_dummy['CAMEO_INTL_2015'].map(lifestage)\n",
    "    df_dummy = pd.get_dummies(df_dummy, prefix=['decade','movement'],columns=['decade','movement'])\n",
    "    df_dummy.drop(['CAMEO_INTL_2015', 'PRAEGENDE_JUGENDJAHRE'], axis=1, inplace=True)\n",
    "    # Return the cleaned dataframe.\n",
    "    return df_dummy"
   ]
  },
  {
   "cell_type": "markdown",
   "metadata": {},
   "source": [
    "## Step 2: Feature Transformation\n",
    "\n",
    "### Step 2.1: Apply Feature Scaling\n",
    "\n",
    "Before we apply dimensionality reduction techniques to the data, we need to perform feature scaling so that the principal component vectors are not influenced by the natural differences in scale for features. Starting from this part of the project, you'll want to keep an eye on the [API reference page for sklearn](http://scikit-learn.org/stable/modules/classes.html) to help you navigate to all of the classes and functions that you'll need. In this substep, you'll need to check the following:\n",
    "\n",
    "- sklearn requires that data not have missing values in order for its estimators to work properly. So, before applying the scaler to your data, make sure that you've cleaned the DataFrame of the remaining missing values before applying your scaler. This can be as simple as just removing all data points with missing data, or applying an [Imputer](http://scikit-learn.org/stable/modules/generated/sklearn.preprocessing.Imputer.html) to replace all missing values. You might also try a more complicated procedure where you temporarily remove missing values in order to compute the scaling parameters before re-introducing those missing values and applying imputation. Think about how much missing data you have and what possible effects each approach might have on your analysis, and justify your decision in the discussion section below.\n",
    "- For the actual scaling function, a [StandardScaler](http://scikit-learn.org/stable/modules/generated/sklearn.preprocessing.StandardScaler.html) instance is suggested, scaling each feature to mean 0 and standard deviation 1.\n",
    "- For these classes, you can make use of the `.fit_transform()` method to both fit a procedure to the data as well as apply the transformation to the data at the same time. Don't forget to keep the fit sklearn objects handy, since you'll be applying them to the customer demographics data towards the end of the project."
   ]
  },
  {
   "cell_type": "code",
   "execution_count": 93,
   "metadata": {},
   "outputs": [],
   "source": [
    "# If you've not yet cleaned the dataset of all NaN values, then investigate and\n",
    "# do that now.\n",
    "#check_missing_values(subset_dummy)\n",
    "subset_dummy = subset_dummy.fillna(subset_dummy.mean())"
   ]
  },
  {
   "cell_type": "code",
   "execution_count": 94,
   "metadata": {},
   "outputs": [],
   "source": [
    "# Apply feature scaling to the general population demographics data.\n",
    "#check_missing_values(subset_dummy)\n",
    "scaler = StandardScaler()\n",
    "scaled_features = scaler.fit_transform(subset_dummy.values)\n",
    "subset_dummy_scale = pd.DataFrame(scaled_features, index=subset_dummy.index, columns=subset_dummy.columns)"
   ]
  },
  {
   "cell_type": "code",
   "execution_count": 95,
   "metadata": {},
   "outputs": [
    {
     "data": {
      "text/plain": [
       "(697109, 167)"
      ]
     },
     "execution_count": 95,
     "metadata": {},
     "output_type": "execute_result"
    }
   ],
   "source": [
    "#OK\n",
    "subset_dummy_scale.shape"
   ]
  },
  {
   "cell_type": "markdown",
   "metadata": {},
   "source": [
    "### Discussion 2.1: Apply Feature Scaling\n",
    "\n",
    "(Double-click this cell and replace this text with your own text, reporting your decisions regarding feature scaling.)\n",
    "<br>\n",
    "StandardScaler always return array numpy so i have to convert it back to dataframe for further analysis."
   ]
  },
  {
   "cell_type": "markdown",
   "metadata": {},
   "source": [
    "### Step 2.2: Perform Dimensionality Reduction\n",
    "\n",
    "On your scaled data, you are now ready to apply dimensionality reduction techniques.\n",
    "\n",
    "- Use sklearn's [PCA](http://scikit-learn.org/stable/modules/generated/sklearn.decomposition.PCA.html) class to apply principal component analysis on the data, thus finding the vectors of maximal variance in the data. To start, you should not set any parameters (so all components are computed) or set a number of components that is at least half the number of features (so there's enough features to see the general trend in variability).\n",
    "- Check out the ratio of variance explained by each principal component as well as the cumulative variance explained. Try plotting the cumulative or sequential values using matplotlib's [`plot()`](https://matplotlib.org/api/_as_gen/matplotlib.pyplot.plot.html) function. Based on what you find, select a value for the number of transformed features you'll retain for the clustering part of the project.\n",
    "- Once you've made a choice for the number of components to keep, make sure you re-fit a PCA instance to perform the decided-on transformation."
   ]
  },
  {
   "cell_type": "code",
   "execution_count": 96,
   "metadata": {},
   "outputs": [],
   "source": [
    "# Apply PCA to the data.\n",
    "n_components = 87\n",
    "pca = PCA(n_components)\n",
    "subset_pca = pca.fit_transform(subset_dummy_scale)"
   ]
  },
  {
   "cell_type": "code",
   "execution_count": 97,
   "metadata": {},
   "outputs": [
    {
     "data": {
      "image/png": "[encoded data removed]",
      "text/plain": [
       "<matplotlib.figure.Figure at 0x7fe9916aaa90>"
      ]
     },
     "metadata": {},
     "output_type": "display_data"
    }
   ],
   "source": [
    "# Investigate the variance accounted for by each principal component.\n",
    "def scree_plot(pca):\n",
    "    '''\n",
    "    Creates a scree plot associated with the principal components \n",
    "    \n",
    "    INPUT: pca - the result of instantian of PCA in scikit learn\n",
    "            \n",
    "    OUTPUT:\n",
    "            None\n",
    "    '''\n",
    "    num_components=len(pca.explained_variance_ratio_)\n",
    "    ind = np.arange(num_components)\n",
    "    vals = pca.explained_variance_ratio_\n",
    " \n",
    "    plt.figure(figsize=(15, 5))\n",
    "    ax = plt.subplot(111)\n",
    "    cumvals = np.cumsum(vals)\n",
    "    #print(sum(cumvals))\n",
    "    ax.bar(ind, vals)\n",
    "    ax.plot(ind, cumvals)\n",
    "    for i in range(num_components):\n",
    "        ax.annotate(r\"%s%%\" % ((str(vals[i]*100)[:4])), (ind[i]+0.2, vals[i]), va=\"bottom\", ha=\"center\", fontsize=8)\n",
    " \n",
    "    ax.xaxis.set_tick_params(width=0)\n",
    "    ax.yaxis.set_tick_params(width=2, length=12)\n",
    " \n",
    "    ax.set_xlabel(\"Principal Component\")\n",
    "    ax.set_ylabel(\"Variance Explained (%)\")\n",
    "    plt.title('Explained Variance Per Principal Component')\n",
    "\n",
    "scree_plot(pca)\n"
   ]
  },
  {
   "cell_type": "code",
   "execution_count": 98,
   "metadata": {},
   "outputs": [],
   "source": [
    "# Re-apply PCA to the data while selecting for number of components to retain.\n",
    "n_components = 60\n",
    "pca = PCA(n_components)\n",
    "subset_pca = pca.fit_transform(subset_dummy_scale)\n"
   ]
  },
  {
   "cell_type": "markdown",
   "metadata": {},
   "source": [
    "### Discussion 2.2: Perform Dimensionality Reduction\n",
    "\n",
    "(Double-click this cell and replace this text with your own text, reporting your findings and decisions regarding dimensionality reduction. How many principal components / transformed features are you retaining for the next step of the analysis?)\n",
    "\n",
    "I choose 60 components since it can explain about 70%"
   ]
  },
  {
   "cell_type": "markdown",
   "metadata": {},
   "source": [
    "### Step 2.3: Interpret Principal Components\n",
    "\n",
    "Now that we have our transformed principal components, it's a nice idea to check out the weight of each variable on the first few components to see if they can be interpreted in some fashion.\n",
    "\n",
    "As a reminder, each principal component is a unit vector that points in the direction of highest variance (after accounting for the variance captured by earlier principal components). The further a weight is from zero, the more the principal component is in the direction of the corresponding feature. If two features have large weights of the same sign (both positive or both negative), then increases in one tend expect to be associated with increases in the other. To contrast, features with different signs can be expected to show a negative correlation: increases in one variable should result in a decrease in the other.\n",
    "\n",
    "- To investigate the features, you should map each weight to their corresponding feature name, then sort the features according to weight. The most interesting features for each principal component, then, will be those at the beginning and end of the sorted list. Use the data dictionary document to help you understand these most prominent features, their relationships, and what a positive or negative value on the principal component might indicate.\n",
    "- You should investigate and interpret feature associations from the first three principal components in this substep. To help facilitate this, you should write a function that you can call at any time to print the sorted list of feature weights, for the *i*-th principal component. This might come in handy in the next step of the project, when you interpret the tendencies of the discovered clusters."
   ]
  },
  {
   "cell_type": "code",
   "execution_count": 99,
   "metadata": {},
   "outputs": [
    {
     "data": {
      "text/html": [
       "<div>\n",
       "<style>\n",
       "    .dataframe thead tr:only-child th {\n",
       "        text-align: right;\n",
       "    }\n",
       "\n",
       "    .dataframe thead th {\n",
       "        text-align: left;\n",
       "    }\n",
       "\n",
       "    .dataframe tbody tr th {\n",
       "        vertical-align: top;\n",
       "    }\n",
       "</style>\n",
       "<table border=\"1\" class=\"dataframe\">\n",
       "  <thead>\n",
       "    <tr style=\"text-align: right;\">\n",
       "      <th></th>\n",
       "      <th>Explained Variance</th>\n",
       "      <th>FINANZ_SPARER</th>\n",
       "      <th>LP_STATUS_GROB_1.0</th>\n",
       "      <th>HH_EINKOMMEN_SCORE</th>\n",
       "      <th>SEMIO_PFLICHT</th>\n",
       "      <th>FINANZTYP_1</th>\n",
       "      <th>SEMIO_REL</th>\n",
       "      <th>decade_90s</th>\n",
       "      <th>SEMIO_TRADV</th>\n",
       "      <th>LP_STATUS_FEIN_2.0</th>\n",
       "      <th>...</th>\n",
       "      <th>SEMIO_ERL</th>\n",
       "      <th>LP_STATUS_FEIN_10.0</th>\n",
       "      <th>LP_STATUS_GROB_5.0</th>\n",
       "      <th>SEMIO_LUST</th>\n",
       "      <th>KBA05_GBZ</th>\n",
       "      <th>wealth</th>\n",
       "      <th>MOBI_REGIO</th>\n",
       "      <th>FINANZ_VORSORGER</th>\n",
       "      <th>ALTERSKATEGORIE_GROB</th>\n",
       "      <th>FINANZ_MINIMALIST</th>\n",
       "    </tr>\n",
       "  </thead>\n",
       "  <tbody>\n",
       "    <tr>\n",
       "      <th>Dimension 1</th>\n",
       "      <td>0.0795</td>\n",
       "      <td>0.2082</td>\n",
       "      <td>0.1805</td>\n",
       "      <td>0.1683</td>\n",
       "      <td>0.1679</td>\n",
       "      <td>0.1671</td>\n",
       "      <td>0.163</td>\n",
       "      <td>0.1596</td>\n",
       "      <td>0.1521</td>\n",
       "      <td>0.1511</td>\n",
       "      <td>...</td>\n",
       "      <td>-0.1239</td>\n",
       "      <td>-0.1262</td>\n",
       "      <td>-0.1262</td>\n",
       "      <td>-0.1306</td>\n",
       "      <td>-0.1422</td>\n",
       "      <td>-0.1523</td>\n",
       "      <td>-0.1634</td>\n",
       "      <td>-0.1748</td>\n",
       "      <td>-0.1849</td>\n",
       "      <td>-0.2252</td>\n",
       "    </tr>\n",
       "  </tbody>\n",
       "</table>\n",
       "<p>1 rows × 168 columns</p>\n",
       "</div>"
      ],
      "text/plain": [
       "             Explained Variance  FINANZ_SPARER  LP_STATUS_GROB_1.0  \\\n",
       "Dimension 1              0.0795         0.2082              0.1805   \n",
       "\n",
       "             HH_EINKOMMEN_SCORE  SEMIO_PFLICHT  FINANZTYP_1  SEMIO_REL  \\\n",
       "Dimension 1              0.1683         0.1679       0.1671      0.163   \n",
       "\n",
       "             decade_90s  SEMIO_TRADV  LP_STATUS_FEIN_2.0        ...          \\\n",
       "Dimension 1      0.1596       0.1521              0.1511        ...           \n",
       "\n",
       "             SEMIO_ERL  LP_STATUS_FEIN_10.0  LP_STATUS_GROB_5.0  SEMIO_LUST  \\\n",
       "Dimension 1    -0.1239              -0.1262             -0.1262     -0.1306   \n",
       "\n",
       "             KBA05_GBZ  wealth  MOBI_REGIO  FINANZ_VORSORGER  \\\n",
       "Dimension 1    -0.1422 -0.1523     -0.1634           -0.1748   \n",
       "\n",
       "             ALTERSKATEGORIE_GROB  FINANZ_MINIMALIST  \n",
       "Dimension 1               -0.1849            -0.2252  \n",
       "\n",
       "[1 rows x 168 columns]"
      ]
     },
     "execution_count": 99,
     "metadata": {},
     "output_type": "execute_result"
    },
    {
     "data": {
      "image/png": "[encoded data removed]",
      "text/plain": [
       "<matplotlib.figure.Figure at 0x7fe9908ad160>"
      ]
     },
     "metadata": {},
     "output_type": "display_data"
    }
   ],
   "source": [
    "# Map weights for the first principal component to corresponding feature names\n",
    "# and then print the linked values, sorted by weight.\n",
    "# HINT: Try defining a function here or in a new cell that you can reuse in the\n",
    "# other cells.\n",
    "def pca_results(full_dataset, pca,position):\n",
    "    '''\n",
    "    Create a DataFrame of the PCA results\n",
    "    Includes dimension feature weights and explained variance\n",
    "    Visualizes the PCA results\n",
    "    '''\n",
    "    \n",
    "    # Dimension indexing\n",
    "    #dimensions = dimensions = ['Dimension {}'.format(i) for i in range(1,len(pca.components_)+1)]\n",
    "    dimensions = dimensions = ['Dimension %s' %format(position)]\n",
    "\n",
    "    # PCA components [0:3] to select first 3 components\n",
    "    #components = pd.DataFrame(np.round(pca.components_, 4), columns = full_dataset.keys())\n",
    "    components = pd.DataFrame(np.round(pca.components_[position-1:position], 4), \n",
    "                              columns = full_dataset[position-1:position].keys())\n",
    "    components.index = dimensions\n",
    "\n",
    "    # PCA explained variance[0:3] to select first 3 components\n",
    "    ratios = pca.explained_variance_ratio_.reshape(len(pca.components_), 1)\n",
    "    #variance_ratios = pd.DataFrame(np.round(ratios, 4), columns = ['Explained Variance'])\n",
    "    variance_ratios = pd.DataFrame(np.round(ratios[position-1:position], 4), columns = ['Explained Variance'])\n",
    "    variance_ratios.index = dimensions\n",
    "\n",
    "    # Create a bar plot visualization\n",
    "    fig, ax = plt.subplots(figsize = (15,5))\n",
    "\n",
    "    # Plot the feature weights as a function of the components\n",
    "    components.plot(ax = ax, kind = 'bar',legend =False);\n",
    "    ax.set_ylabel(\"Feature Weights\")\n",
    "    ax.set_xticklabels(dimensions, rotation=0)\n",
    "\n",
    "\n",
    "    # Display the explained variance ratios\n",
    "    #for i, ev in enumerate(pca.explained_variance_ratio_):\n",
    "    for i, ev in enumerate(pca.explained_variance_ratio_[position-1:position]):\n",
    "        ax.text(i-0.40, ax.get_ylim()[1] + 0.05, \"Explained Variance\\n          %.4f\"%(ev))\n",
    "\n",
    "    # Return a concatenated DataFrame\n",
    "    return pd.concat([variance_ratios, components.sort_values(by=dimensions, ascending=False, axis=1)], axis = 1)\n",
    "pca_results(subset_dummy_scale, pca,1)"
   ]
  },
  {
   "cell_type": "code",
   "execution_count": 100,
   "metadata": {},
   "outputs": [
    {
     "data": {
      "text/html": [
       "<div>\n",
       "<style>\n",
       "    .dataframe thead tr:only-child th {\n",
       "        text-align: right;\n",
       "    }\n",
       "\n",
       "    .dataframe thead th {\n",
       "        text-align: left;\n",
       "    }\n",
       "\n",
       "    .dataframe tbody tr th {\n",
       "        vertical-align: top;\n",
       "    }\n",
       "</style>\n",
       "<table border=\"1\" class=\"dataframe\">\n",
       "  <thead>\n",
       "    <tr style=\"text-align: right;\">\n",
       "      <th></th>\n",
       "      <th>Explained Variance</th>\n",
       "      <th>ZABEOTYP_3</th>\n",
       "      <th>FINANZ_HAUSBAUER</th>\n",
       "      <th>LP_STATUS_FEIN_1.0</th>\n",
       "      <th>ALTERSKATEGORIE_GROB</th>\n",
       "      <th>SEMIO_ERL</th>\n",
       "      <th>FINANZ_VORSORGER</th>\n",
       "      <th>HH_EINKOMMEN_SCORE</th>\n",
       "      <th>LP_STATUS_GROB_1.0</th>\n",
       "      <th>ORTSGR_KLS9</th>\n",
       "      <th>...</th>\n",
       "      <th>FINANZ_ANLEGER</th>\n",
       "      <th>SEMIO_PFLICHT</th>\n",
       "      <th>SEMIO_KULT</th>\n",
       "      <th>SEMIO_TRADV</th>\n",
       "      <th>KBA05_GBZ</th>\n",
       "      <th>wealth</th>\n",
       "      <th>SEMIO_REL</th>\n",
       "      <th>FINANZ_UNAUFFAELLIGER</th>\n",
       "      <th>MOBI_REGIO</th>\n",
       "      <th>ONLINE_AFFINITAET</th>\n",
       "    </tr>\n",
       "  </thead>\n",
       "  <tbody>\n",
       "    <tr>\n",
       "      <th>Dimension 2</th>\n",
       "      <td>0.0621</td>\n",
       "      <td>0.1827</td>\n",
       "      <td>0.1689</td>\n",
       "      <td>0.1657</td>\n",
       "      <td>0.1643</td>\n",
       "      <td>0.1557</td>\n",
       "      <td>0.1522</td>\n",
       "      <td>0.1497</td>\n",
       "      <td>0.1358</td>\n",
       "      <td>0.1355</td>\n",
       "      <td>...</td>\n",
       "      <td>-0.1444</td>\n",
       "      <td>-0.1445</td>\n",
       "      <td>-0.1465</td>\n",
       "      <td>-0.1569</td>\n",
       "      <td>-0.1598</td>\n",
       "      <td>-0.1609</td>\n",
       "      <td>-0.1672</td>\n",
       "      <td>-0.1677</td>\n",
       "      <td>-0.1727</td>\n",
       "      <td>-0.1752</td>\n",
       "    </tr>\n",
       "  </tbody>\n",
       "</table>\n",
       "<p>1 rows × 168 columns</p>\n",
       "</div>"
      ],
      "text/plain": [
       "             Explained Variance  ZABEOTYP_3  FINANZ_HAUSBAUER  \\\n",
       "Dimension 2              0.0621      0.1827            0.1689   \n",
       "\n",
       "             LP_STATUS_FEIN_1.0  ALTERSKATEGORIE_GROB  SEMIO_ERL  \\\n",
       "Dimension 2              0.1657                0.1643     0.1557   \n",
       "\n",
       "             FINANZ_VORSORGER  HH_EINKOMMEN_SCORE  LP_STATUS_GROB_1.0  \\\n",
       "Dimension 2            0.1522              0.1497              0.1358   \n",
       "\n",
       "             ORTSGR_KLS9        ...          FINANZ_ANLEGER  SEMIO_PFLICHT  \\\n",
       "Dimension 2       0.1355        ...                 -0.1444        -0.1445   \n",
       "\n",
       "             SEMIO_KULT  SEMIO_TRADV  KBA05_GBZ  wealth  SEMIO_REL  \\\n",
       "Dimension 2     -0.1465      -0.1569    -0.1598 -0.1609    -0.1672   \n",
       "\n",
       "             FINANZ_UNAUFFAELLIGER  MOBI_REGIO  ONLINE_AFFINITAET  \n",
       "Dimension 2                -0.1677     -0.1727            -0.1752  \n",
       "\n",
       "[1 rows x 168 columns]"
      ]
     },
     "execution_count": 100,
     "metadata": {},
     "output_type": "execute_result"
    },
    {
     "data": {
      "image/png": "[encoded data removed]",
      "text/plain": [
       "<matplotlib.figure.Figure at 0x7fe9908f0f60>"
      ]
     },
     "metadata": {},
     "output_type": "display_data"
    }
   ],
   "source": [
    "# Map weights for the second principal component to corresponding feature names\n",
    "# and then print the linked values, sorted by weight.\n",
    "pca_results(subset_dummy_scale, pca,2)\n"
   ]
  },
  {
   "cell_type": "code",
   "execution_count": 101,
   "metadata": {},
   "outputs": [
    {
     "data": {
      "text/html": [
       "<div>\n",
       "<style>\n",
       "    .dataframe thead tr:only-child th {\n",
       "        text-align: right;\n",
       "    }\n",
       "\n",
       "    .dataframe thead th {\n",
       "        text-align: left;\n",
       "    }\n",
       "\n",
       "    .dataframe tbody tr th {\n",
       "        vertical-align: top;\n",
       "    }\n",
       "</style>\n",
       "<table border=\"1\" class=\"dataframe\">\n",
       "  <thead>\n",
       "    <tr style=\"text-align: right;\">\n",
       "      <th></th>\n",
       "      <th>Explained Variance</th>\n",
       "      <th>SEMIO_VERT</th>\n",
       "      <th>SEMIO_FAM</th>\n",
       "      <th>SEMIO_SOZ</th>\n",
       "      <th>SEMIO_KULT</th>\n",
       "      <th>FINANZTYP_5</th>\n",
       "      <th>SHOPPER_TYP_0.0</th>\n",
       "      <th>SEMIO_REL</th>\n",
       "      <th>FINANZ_MINIMALIST</th>\n",
       "      <th>ORTSGR_KLS9</th>\n",
       "      <th>...</th>\n",
       "      <th>INNENSTADT</th>\n",
       "      <th>FINANZTYP_1</th>\n",
       "      <th>SHOPPER_TYP_2.0</th>\n",
       "      <th>SEMIO_RAT</th>\n",
       "      <th>FINANZ_ANLEGER</th>\n",
       "      <th>SEMIO_ERL</th>\n",
       "      <th>SEMIO_KRIT</th>\n",
       "      <th>SEMIO_DOM</th>\n",
       "      <th>SEMIO_KAEM</th>\n",
       "      <th>ANREDE_KZ</th>\n",
       "    </tr>\n",
       "  </thead>\n",
       "  <tbody>\n",
       "    <tr>\n",
       "      <th>Dimension 3</th>\n",
       "      <td>0.0405</td>\n",
       "      <td>0.3113</td>\n",
       "      <td>0.2545</td>\n",
       "      <td>0.2538</td>\n",
       "      <td>0.2383</td>\n",
       "      <td>0.1511</td>\n",
       "      <td>0.1171</td>\n",
       "      <td>0.1124</td>\n",
       "      <td>0.1077</td>\n",
       "      <td>0.1042</td>\n",
       "      <td>...</td>\n",
       "      <td>-0.0875</td>\n",
       "      <td>-0.09</td>\n",
       "      <td>-0.0938</td>\n",
       "      <td>-0.1579</td>\n",
       "      <td>-0.167</td>\n",
       "      <td>-0.1941</td>\n",
       "      <td>-0.2505</td>\n",
       "      <td>-0.2716</td>\n",
       "      <td>-0.3003</td>\n",
       "      <td>-0.3373</td>\n",
       "    </tr>\n",
       "  </tbody>\n",
       "</table>\n",
       "<p>1 rows × 168 columns</p>\n",
       "</div>"
      ],
      "text/plain": [
       "             Explained Variance  SEMIO_VERT  SEMIO_FAM  SEMIO_SOZ  SEMIO_KULT  \\\n",
       "Dimension 3              0.0405      0.3113     0.2545     0.2538      0.2383   \n",
       "\n",
       "             FINANZTYP_5  SHOPPER_TYP_0.0  SEMIO_REL  FINANZ_MINIMALIST  \\\n",
       "Dimension 3       0.1511           0.1171     0.1124             0.1077   \n",
       "\n",
       "             ORTSGR_KLS9    ...      INNENSTADT  FINANZTYP_1  SHOPPER_TYP_2.0  \\\n",
       "Dimension 3       0.1042    ...         -0.0875        -0.09          -0.0938   \n",
       "\n",
       "             SEMIO_RAT  FINANZ_ANLEGER  SEMIO_ERL  SEMIO_KRIT  SEMIO_DOM  \\\n",
       "Dimension 3    -0.1579          -0.167    -0.1941     -0.2505    -0.2716   \n",
       "\n",
       "             SEMIO_KAEM  ANREDE_KZ  \n",
       "Dimension 3     -0.3003    -0.3373  \n",
       "\n",
       "[1 rows x 168 columns]"
      ]
     },
     "execution_count": 101,
     "metadata": {},
     "output_type": "execute_result"
    },
    {
     "data": {
      "image/png": "[encoded data removed]",
      "text/plain": [
       "<matplotlib.figure.Figure at 0x7fe990c36b00>"
      ]
     },
     "metadata": {},
     "output_type": "display_data"
    }
   ],
   "source": [
    "# Map weights for the third principal component to corresponding feature names\n",
    "# and then print the linked values, sorted by weight.\n",
    "pca_results(subset_dummy_scale, pca,3)\n"
   ]
  },
  {
   "cell_type": "markdown",
   "metadata": {},
   "source": [
    " Discussion 2.3: Interpret Principal Components\n",
    "\n",
    "(Double-click this cell and replace this text with your own text, reporting your observations from detailed investigation of the first few principal components generated. Can we interpret positive and negative values from them in a meaningful way?)\n",
    "<br><br>\n",
    "The amount of variability explained by the first component is:0.077\n",
    "<br><br>\n",
    "The total amount of variability explained by the first three components:0.176\n",
    "<br><br>\n",
    "In third components, the largest 3 variables positively weights items related to: SEMIO_VERT ,SEMIO_FAM ,SEMIO_SOZ\n",
    "<br><br>\n",
    "In third components, the largest 3 variables negatively weights items related to: SEMIO_DOM ,SEMIO_KAEM ,ANREDE_KZ\n",
    "<br><br>\n",
    "According to the data_dictionary file, we can see that the [SEMIO_VERT ,SEMIO_FAM ,SEMIO_SOZ] and [SEMIO_DOM ,SEMIO_KAEM ,ANREDE_KZ] has some kind of opposite meanings -> It might lead to opposite effect in components."
   ]
  },
  {
   "cell_type": "markdown",
   "metadata": {},
   "source": [
    "## Step 3: Clustering\n",
    "\n",
    "### Step 3.1: Apply Clustering to General Population\n",
    "\n",
    "You've assessed and cleaned the demographics data, then scaled and transformed them. Now, it's time to see how the data clusters in the principal components space. In this substep, you will apply k-means clustering to the dataset and use the average within-cluster distances from each point to their assigned cluster's centroid to decide on a number of clusters to keep.\n",
    "\n",
    "- Use sklearn's [KMeans](http://scikit-learn.org/stable/modules/generated/sklearn.cluster.KMeans.html#sklearn.cluster.KMeans) class to perform k-means clustering on the PCA-transformed data.\n",
    "- Then, compute the average difference from each point to its assigned cluster's center. **Hint**: The KMeans object's `.score()` method might be useful here, but note that in sklearn, scores tend to be defined so that larger is better. Try applying it to a small, toy dataset, or use an internet search to help your understanding.\n",
    "- Perform the above two steps for a number of different cluster counts. You can then see how the average distance decreases with an increasing number of clusters. However, each additional cluster provides a smaller net benefit. Use this fact to select a final number of clusters in which to group the data. **Warning**: because of the large size of the dataset, it can take a long time for the algorithm to resolve. The more clusters to fit, the longer the algorithm will take. You should test for cluster counts through at least 10 clusters to get the full picture, but you shouldn't need to test for a number of clusters above about 30.\n",
    "- Once you've selected a final number of clusters to use, re-fit a KMeans instance to perform the clustering operation. Make sure that you also obtain the cluster assignments for the general demographics data, since you'll be using them in the final Step 3.3."
   ]
  },
  {
   "cell_type": "code",
   "execution_count": 103,
   "metadata": {},
   "outputs": [
    {
     "data": {
      "image/png": "[encoded data removed]",
      "text/plain": [
       "<matplotlib.figure.Figure at 0x7fe9908a7518>"
      ]
     },
     "metadata": {},
     "output_type": "display_data"
    }
   ],
   "source": [
    "def get_kmeans_score(data, center):\n",
    "    '''\n",
    "    returns the kmeans score regarding SSE for points to centers\n",
    "    INPUT:\n",
    "        data - the dataset you want to fit kmeans to\n",
    "        center - the number of centers you want (the k value)\n",
    "    OUTPUT:\n",
    "        score - the SSE score for the kmeans model fit to the data\n",
    "    '''\n",
    "    #instantiate kmeans\n",
    "    #kmeans = KMeans(n_clusters=center)\n",
    "    mkb = MiniBatchKMeans(n_clusters=center,random_state=42, batch_size=10000)\n",
    "    # Then fit the model to your data using the fit method\n",
    "    #model = kmeans.fit(data)\n",
    "    model = mkb.fit(data)\n",
    "    # Obtain a score related to the model fit\n",
    "    score = np.abs(model.score(data))\n",
    "    \n",
    "    return score\n",
    "scores = []\n",
    "centers = list(range(1,31))\n",
    "for center in centers:\n",
    "    scores.append(get_kmeans_score(subset_pca, center))\n",
    "    \n",
    "plt.plot(centers, scores, linestyle='--', marker='o', color='b');\n",
    "plt.xlabel('K');\n",
    "plt.ylabel('SSE');\n",
    "plt.title('SSE vs. K');"
   ]
  },
  {
   "cell_type": "code",
   "execution_count": 104,
   "metadata": {},
   "outputs": [],
   "source": [
    "# Re-fit the k-means model with the selected number of clusters and obtain\n",
    "# cluster predictions for the general population demographics data.\n",
    "kmeans = KMeans(n_clusters=27,random_state=42)\n",
    "subset_kmeans = kmeans.fit_transform(subset_pca)"
   ]
  },
  {
   "cell_type": "code",
   "execution_count": 216,
   "metadata": {},
   "outputs": [],
   "source": [
    "subset_kmeans_predict = kmeans.predict(subset_pca)"
   ]
  },
  {
   "cell_type": "markdown",
   "metadata": {},
   "source": [
    "### Discussion 3.1: Apply Clustering to General Population\n",
    "\n",
    "(Double-click this cell and replace this text with your own text, reporting your findings and decisions regarding clustering. Into how many clusters have you decided to segment the population?)\n",
    "<br>\n",
    "<br>\n",
    "Since the samples are bigger than 10k (around 690k records), i had to switch to minibatchkmeans to find the suitable cluster, then use Kmeans to fit it to whole samples.\n",
    "<br>\n",
    "I chose 27 clusters according to the graph above."
   ]
  },
  {
   "cell_type": "markdown",
   "metadata": {},
   "source": [
    "### Step 3.2: Apply All Steps to the Customer Data\n",
    "\n",
    "Now that you have clusters and cluster centers for the general population, it's time to see how the customer data maps on to those clusters. Take care to not confuse this for re-fitting all of the models to the customer data. Instead, you're going to use the fits from the general population to clean, transform, and cluster the customer data. In the last step of the project, you will interpret how the general population fits apply to the customer data.\n",
    "\n",
    "- Don't forget when loading in the customers data, that it is semicolon (`;`) delimited.\n",
    "- Apply the same feature wrangling, selection, and engineering steps to the customer demographics using the `clean_data()` function you created earlier. (You can assume that the customer demographics data has similar meaning behind missing data patterns as the general demographics data.)\n",
    "- Use the sklearn objects from the general demographics data, and apply their transformations to the customers data. That is, you should not be using a `.fit()` or `.fit_transform()` method to re-fit the old objects, nor should you be creating new sklearn objects! Carry the data through the feature scaling, PCA, and clustering steps, obtaining cluster assignments for all of the data in the customer demographics data."
   ]
  },
  {
   "cell_type": "code",
   "execution_count": 105,
   "metadata": {},
   "outputs": [
    {
     "data": {
      "text/plain": [
       "(191652, 85)"
      ]
     },
     "execution_count": 105,
     "metadata": {},
     "output_type": "execute_result"
    }
   ],
   "source": [
    "# Load in the customer demographics data.\n",
    "customers = pd.read_csv('./Udacity_CUSTOMERS_Subset.csv',delimiter=';')\n",
    "customers.shape"
   ]
  },
  {
   "cell_type": "code",
   "execution_count": 106,
   "metadata": {
    "scrolled": true
   },
   "outputs": [
    {
     "data": {
      "text/plain": [
       "(191652, 167)"
      ]
     },
     "execution_count": 106,
     "metadata": {},
     "output_type": "execute_result"
    }
   ],
   "source": [
    "# Apply preprocessing, feature transformation, and clustering from the general\n",
    "# demographics onto the customer data, obtaining cluster predictions for the\n",
    "# customer demographics data.\n",
    "customers_dummy = clean_data(customers)\n",
    "customers_dummy.shape\n",
    "# The shape is 1 column difference because when engineering dummies, there is possibility that one column of customer's\n",
    "#data has less value than the demographics"
   ]
  },
  {
   "cell_type": "code",
   "execution_count": 272,
   "metadata": {},
   "outputs": [],
   "source": [
    "customers_dummy = customers_dummy.fillna(customers_dummy.mean())\n",
    "customers_scaled_features = scaler.transform(customers_dummy.values)\n",
    "customers_dummy_scale = pd.DataFrame(customers_scaled_features, index=customers_dummy.index, columns=customers_dummy.columns)\n",
    "#n_components = 60\n",
    "customers_pca = pca.transform(customers_dummy_scale)\n",
    "customers_transform_kmeans = kmeans.transform(customers_pca)\n",
    "customers_predict_kmeans = kmeans.predict(customers_pca)"
   ]
  },
  {
   "cell_type": "code",
   "execution_count": null,
   "metadata": {},
   "outputs": [],
   "source": []
  },
  {
   "cell_type": "markdown",
   "metadata": {},
   "source": [
    "### Step 3.3: Compare Customer Data to Demographics Data\n",
    "\n",
    "At this point, you have clustered data based on demographics of the general population of Germany, and seen how the customer data for a mail-order sales company maps onto those demographic clusters. In this final substep, you will compare the two cluster distributions to see where the strongest customer base for the company is.\n",
    "\n",
    "Consider the proportion of persons in each cluster for the general population, and the proportions for the customers. If we think the company's customer base to be universal, then the cluster assignment proportions should be fairly similar between the two. If there are only particular segments of the population that are interested in the company's products, then we should see a mismatch from one to the other. If there is a higher proportion of persons in a cluster for the customer data compared to the general population (e.g. 5% of persons are assigned to a cluster for the general population, but 15% of the customer data is closest to that cluster's centroid) then that suggests the people in that cluster to be a target audience for the company. On the other hand, the proportion of the data in a cluster being larger in the general population than the customer data (e.g. only 2% of customers closest to a population centroid that captures 6% of the data) suggests that group of persons to be outside of the target demographics.\n",
    "\n",
    "Take a look at the following points in this step:\n",
    "\n",
    "- Compute the proportion of data points in each cluster for the general population and the customer data. Visualizations will be useful here: both for the individual dataset proportions, but also to visualize the ratios in cluster representation between groups. Seaborn's [`countplot()`](https://seaborn.pydata.org/generated/seaborn.countplot.html) or [`barplot()`](https://seaborn.pydata.org/generated/seaborn.barplot.html) function could be handy.\n",
    "  - Recall the analysis you performed in step 1.1.3 of the project, where you separated out certain data points from the dataset if they had more than a specified threshold of missing values. If you found that this group was qualitatively different from the main bulk of the data, you should treat this as an additional data cluster in this analysis. Make sure that you account for the number of data points in this subset, for both the general population and customer datasets, when making your computations!\n",
    "- Which cluster or clusters are overrepresented in the customer dataset compared to the general population? Select at least one such cluster and infer what kind of people might be represented by that cluster. Use the principal component interpretations from step 2.3 or look at additional components to help you make this inference. Alternatively, you can use the `.inverse_transform()` method of the PCA and StandardScaler objects to transform centroids back to the original data space and interpret the retrieved values directly.\n",
    "- Perform a similar investigation for the underrepresented clusters. Which cluster or clusters are underrepresented in the customer dataset compared to the general population, and what kinds of people are typified by these clusters?"
   ]
  },
  {
   "cell_type": "code",
   "execution_count": 273,
   "metadata": {},
   "outputs": [],
   "source": [
    "# Compare the proportion of data in each cluster for the customer data to the\n",
    "# proportion of data in each cluster for the general population.\n",
    "labels = kmeans.labels_\n",
    "center = kmeans.cluster_centers_"
   ]
  },
  {
   "cell_type": "code",
   "execution_count": 274,
   "metadata": {},
   "outputs": [],
   "source": [
    "percent_customers = Counter(customers_predict_kmeans)\n",
    "percent_customers = sorted(percent_customers.items())\n",
    "percent_demographics = Counter(labels)\n",
    "percent_demographics = sorted(percent_demographics.items())"
   ]
  },
  {
   "cell_type": "code",
   "execution_count": 275,
   "metadata": {},
   "outputs": [],
   "source": [
    "proportion_customer = []\n",
    "for i,k in percent_customers:\n",
    "    proportion_customer.append(k*100/len(customers_kmeans))"
   ]
  },
  {
   "cell_type": "code",
   "execution_count": 276,
   "metadata": {},
   "outputs": [],
   "source": [
    "proportion_demographics = []\n",
    "for i,k in percent_demographics:\n",
    "    proportion_demographics.append(k*100/len(subset_kmeans))"
   ]
  },
  {
   "cell_type": "code",
   "execution_count": 295,
   "metadata": {},
   "outputs": [],
   "source": [
    "percentile_list = pd.DataFrame(\n",
    "    {'demographics': proportion_demographics,\n",
    "     'customer': proportion_customer,\n",
    "    })\n",
    "percentile_list.index.names = ['Cluster']"
   ]
  },
  {
   "cell_type": "code",
   "execution_count": 296,
   "metadata": {},
   "outputs": [
    {
     "data": {
      "text/plain": [
       "<matplotlib.axes._subplots.AxesSubplot at 0x7fe983b0de10>"
      ]
     },
     "execution_count": 296,
     "metadata": {},
     "output_type": "execute_result"
    },
    {
     "data": {
      "image/png": "[encoded data removed]",
      "text/plain": [
       "<matplotlib.figure.Figure at 0x7fe9840a39e8>"
      ]
     },
     "metadata": {},
     "output_type": "display_data"
    }
   ],
   "source": [
    "percentile_list.plot.bar(figsize=(15,5))"
   ]
  },
  {
   "cell_type": "code",
   "execution_count": 341,
   "metadata": {},
   "outputs": [
    {
     "data": {
      "text/html": [
       "<div>\n",
       "<style>\n",
       "    .dataframe thead tr:only-child th {\n",
       "        text-align: right;\n",
       "    }\n",
       "\n",
       "    .dataframe thead th {\n",
       "        text-align: left;\n",
       "    }\n",
       "\n",
       "    .dataframe tbody tr th {\n",
       "        vertical-align: top;\n",
       "    }\n",
       "</style>\n",
       "<table border=\"1\" class=\"dataframe\">\n",
       "  <thead>\n",
       "    <tr style=\"text-align: right;\">\n",
       "      <th></th>\n",
       "      <th>ALTERSKATEGORIE_GROB</th>\n",
       "      <th>ANREDE_KZ</th>\n",
       "      <th>FINANZ_MINIMALIST</th>\n",
       "      <th>FINANZ_SPARER</th>\n",
       "      <th>FINANZ_VORSORGER</th>\n",
       "      <th>FINANZ_ANLEGER</th>\n",
       "      <th>FINANZ_UNAUFFAELLIGER</th>\n",
       "      <th>FINANZ_HAUSBAUER</th>\n",
       "      <th>GREEN_AVANTGARDE</th>\n",
       "      <th>HEALTH_TYP</th>\n",
       "      <th>...</th>\n",
       "      <th>wealth</th>\n",
       "      <th>lifestage</th>\n",
       "      <th>decade_40s</th>\n",
       "      <th>decade_50s</th>\n",
       "      <th>decade_60s</th>\n",
       "      <th>decade_70s</th>\n",
       "      <th>decade_80s</th>\n",
       "      <th>decade_90s</th>\n",
       "      <th>movement_Avantgarde</th>\n",
       "      <th>movement_Mainstream</th>\n",
       "    </tr>\n",
       "  </thead>\n",
       "  <tbody>\n",
       "    <tr>\n",
       "      <th>1</th>\n",
       "      <td>2.0</td>\n",
       "      <td>2.0</td>\n",
       "      <td>2.0</td>\n",
       "      <td>4.0</td>\n",
       "      <td>2.0</td>\n",
       "      <td>5.0</td>\n",
       "      <td>4.0</td>\n",
       "      <td>3.0</td>\n",
       "      <td>0.0</td>\n",
       "      <td>2.0</td>\n",
       "      <td>...</td>\n",
       "      <td>4.0</td>\n",
       "      <td>3.0</td>\n",
       "      <td>0.0</td>\n",
       "      <td>0.0</td>\n",
       "      <td>-0.0</td>\n",
       "      <td>0.0</td>\n",
       "      <td>0.0</td>\n",
       "      <td>1.0</td>\n",
       "      <td>0.0</td>\n",
       "      <td>1.0</td>\n",
       "    </tr>\n",
       "  </tbody>\n",
       "</table>\n",
       "<p>1 rows × 167 columns</p>\n",
       "</div>"
      ],
      "text/plain": [
       "   ALTERSKATEGORIE_GROB  ANREDE_KZ  FINANZ_MINIMALIST  FINANZ_SPARER  \\\n",
       "1                   2.0        2.0                2.0            4.0   \n",
       "\n",
       "   FINANZ_VORSORGER  FINANZ_ANLEGER  FINANZ_UNAUFFAELLIGER  FINANZ_HAUSBAUER  \\\n",
       "1               2.0             5.0                    4.0               3.0   \n",
       "\n",
       "   GREEN_AVANTGARDE  HEALTH_TYP         ...           wealth  lifestage  \\\n",
       "1               0.0         2.0         ...              4.0        3.0   \n",
       "\n",
       "   decade_40s  decade_50s  decade_60s  decade_70s  decade_80s  decade_90s  \\\n",
       "1         0.0         0.0        -0.0         0.0         0.0         1.0   \n",
       "\n",
       "   movement_Avantgarde  movement_Mainstream  \n",
       "1                  0.0                  1.0  \n",
       "\n",
       "[1 rows x 167 columns]"
      ]
     },
     "execution_count": 341,
     "metadata": {},
     "output_type": "execute_result"
    }
   ],
   "source": [
    "# What kinds of people are part of a cluster that is overrepresented in the\n",
    "# customer data compared to the general population?\n",
    "cluster_18 = pca.inverse_transform(center[18])\n",
    "cluster_18 = scaler.inverse_transform(cluster_18)\n",
    "cluster_18 = np.float64(np.round(cluster_18))\n",
    "cluster_18 = cluster_18.reshape(1,167)\n",
    "df_cluster_18 = pd.DataFrame(cluster_18, index=[1], columns=customers_dummy.columns)\n",
    "df_cluster_18\n",
    "#We can interpreter the result as below:\n",
    "#ALTERSKATEGORIE_GROB = 2: 30-45 years old\n",
    "#ANREDE_KZ = 2: fermale\n",
    "#FINANZ_ANLEGER =5 : very low investor\n",
    "#FINANZ_HAUSBAUER =3 : average home ownership\n",
    "#GREEN_AVANTGARDE =0 :not a member of green avantgarde\n",
    "#HEALTH_TYP = 2: sanitary affine  \n",
    "#Wealth = 4: Prosperous Households\n",
    "#decade_90s =1 and movement_mainstream =1: digital media kids\n",
    "#Lifestage = 3: Families With School Age Children"
   ]
  },
  {
   "cell_type": "code",
   "execution_count": 342,
   "metadata": {},
   "outputs": [
    {
     "data": {
      "text/html": [
       "<div>\n",
       "<style>\n",
       "    .dataframe thead tr:only-child th {\n",
       "        text-align: right;\n",
       "    }\n",
       "\n",
       "    .dataframe thead th {\n",
       "        text-align: left;\n",
       "    }\n",
       "\n",
       "    .dataframe tbody tr th {\n",
       "        vertical-align: top;\n",
       "    }\n",
       "</style>\n",
       "<table border=\"1\" class=\"dataframe\">\n",
       "  <thead>\n",
       "    <tr style=\"text-align: right;\">\n",
       "      <th></th>\n",
       "      <th>ALTERSKATEGORIE_GROB</th>\n",
       "      <th>ANREDE_KZ</th>\n",
       "      <th>FINANZ_MINIMALIST</th>\n",
       "      <th>FINANZ_SPARER</th>\n",
       "      <th>FINANZ_VORSORGER</th>\n",
       "      <th>FINANZ_ANLEGER</th>\n",
       "      <th>FINANZ_UNAUFFAELLIGER</th>\n",
       "      <th>FINANZ_HAUSBAUER</th>\n",
       "      <th>GREEN_AVANTGARDE</th>\n",
       "      <th>HEALTH_TYP</th>\n",
       "      <th>...</th>\n",
       "      <th>wealth</th>\n",
       "      <th>lifestage</th>\n",
       "      <th>decade_40s</th>\n",
       "      <th>decade_50s</th>\n",
       "      <th>decade_60s</th>\n",
       "      <th>decade_70s</th>\n",
       "      <th>decade_80s</th>\n",
       "      <th>decade_90s</th>\n",
       "      <th>movement_Avantgarde</th>\n",
       "      <th>movement_Mainstream</th>\n",
       "    </tr>\n",
       "  </thead>\n",
       "  <tbody>\n",
       "    <tr>\n",
       "      <th>1</th>\n",
       "      <td>1.0</td>\n",
       "      <td>2.0</td>\n",
       "      <td>1.0</td>\n",
       "      <td>5.0</td>\n",
       "      <td>2.0</td>\n",
       "      <td>5.0</td>\n",
       "      <td>4.0</td>\n",
       "      <td>4.0</td>\n",
       "      <td>0.0</td>\n",
       "      <td>2.0</td>\n",
       "      <td>...</td>\n",
       "      <td>2.0</td>\n",
       "      <td>2.0</td>\n",
       "      <td>-0.0</td>\n",
       "      <td>-0.0</td>\n",
       "      <td>0.0</td>\n",
       "      <td>0.0</td>\n",
       "      <td>0.0</td>\n",
       "      <td>1.0</td>\n",
       "      <td>0.0</td>\n",
       "      <td>1.0</td>\n",
       "    </tr>\n",
       "  </tbody>\n",
       "</table>\n",
       "<p>1 rows × 167 columns</p>\n",
       "</div>"
      ],
      "text/plain": [
       "   ALTERSKATEGORIE_GROB  ANREDE_KZ  FINANZ_MINIMALIST  FINANZ_SPARER  \\\n",
       "1                   1.0        2.0                1.0            5.0   \n",
       "\n",
       "   FINANZ_VORSORGER  FINANZ_ANLEGER  FINANZ_UNAUFFAELLIGER  FINANZ_HAUSBAUER  \\\n",
       "1               2.0             5.0                    4.0               4.0   \n",
       "\n",
       "   GREEN_AVANTGARDE  HEALTH_TYP         ...           wealth  lifestage  \\\n",
       "1               0.0         2.0         ...              2.0        2.0   \n",
       "\n",
       "   decade_40s  decade_50s  decade_60s  decade_70s  decade_80s  decade_90s  \\\n",
       "1        -0.0        -0.0         0.0         0.0         0.0         1.0   \n",
       "\n",
       "   movement_Avantgarde  movement_Mainstream  \n",
       "1                  0.0                  1.0  \n",
       "\n",
       "[1 rows x 167 columns]"
      ]
     },
     "execution_count": 342,
     "metadata": {},
     "output_type": "execute_result"
    }
   ],
   "source": [
    "# What kinds of people are part of a cluster that is underrepresented in the\n",
    "# customer data compared to the general population?\n",
    "cluster_1 = pca.inverse_transform(center[1])\n",
    "cluster_1 = scaler.inverse_transform(cluster_1)\n",
    "cluster_1 = np.float64(np.round(cluster_1))\n",
    "cluster_1 = cluster_1.reshape(1,167)\n",
    "df_cluster_1 = pd.DataFrame(cluster_1, index=[1], columns=customers_dummy.columns)\n",
    "df_cluster_1\n",
    "#We can interpreter the result as below:\n",
    "#ALTERSKATEGORIE_GROB = 1: <30 years old\n",
    "#ANREDE_KZ = 2: fermale\n",
    "#FINANZ_ANLEGER =5 : very low investor\n",
    "#FINANZ_HAUSBAUER =4 : low home ownership\n",
    "#GREEN_AVANTGARDE =0 :not a member of green avantgarde\n",
    "#HEALTH_TYP = 2: sanitary affine  \n",
    "#Wealth = 2: Less Affluent Households\n",
    "#decade_90s =1 and movement_mainstream =1: digital media kids\n",
    "#Lifestage = 2: Young Couples With Children"
   ]
  },
  {
   "cell_type": "markdown",
   "metadata": {},
   "source": [
    "### Discussion 3.3: Compare Customer Data to Demographics Data\n",
    "\n",
    "(Double-click this cell and replace this text with your own text, reporting findings and conclusions from the clustering analysis. Can we describe segments of the population that are relatively popular with the mail-order company, or relatively unpopular with the company?)\n",
    "<br><br>\n",
    "The result from two datasets is fairly bad in my opinion. I can think of many reasons which lead to that result. For examples:\n",
    "<br>\n",
    "1) The missing values distribution in two datasets are differences\n",
    "<br>\n",
    "2) My way of dealing with missing values is still lacking. Maybe i need to do some more treatments to missing values\n",
    "<br>\n",
    "3) 70% of variant explanation in PCA might be lacking\n",
    "<br>\n",
    "4) How i choose number of kmeans\n",
    "<br>\n",
    "<br>\n",
    "Conclusion: we can describe segments of the population which has the same proportion in cluster (cluster 6,7). For unbalance proportion, we might need to change the way we handle missing values so that we can achieve better result."
   ]
  },
  {
   "cell_type": "markdown",
   "metadata": {},
   "source": []
  },
  {
   "cell_type": "code",
   "execution_count": null,
   "metadata": {},
   "outputs": [],
   "source": []
  }
 ],
 "metadata": {
  "kernelspec": {
   "display_name": "Python 3",
   "language": "python",
   "name": "python3"
  },
  "language_info": {
   "codemirror_mode": {
    "name": "ipython",
    "version": 3
   },
   "file_extension": ".py",
   "mimetype": "text/x-python",
   "name": "python",
   "nbconvert_exporter": "python",
   "pygments_lexer": "ipython3",
   "version": "3.6.4"
  }
 },
 "nbformat": 4,
 "nbformat_minor": 2
}
